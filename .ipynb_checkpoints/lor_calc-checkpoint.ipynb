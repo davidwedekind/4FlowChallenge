{
 "cells": [
  {
   "cell_type": "code",
   "execution_count": 1,
   "metadata": {},
   "outputs": [],
   "source": [
    "import pandas as pd\n",
    "import numpy as np\n",
    "import shapely\n",
    "import geojson\n",
    "import geopandas as gpd\n",
    "import math\n",
    "from pyproj import Geod\n",
    "import matplotlib.pyplot as plt"
   ]
  },
  {
   "cell_type": "code",
   "execution_count": 2,
   "metadata": {},
   "outputs": [],
   "source": [
    "pd.options.display.float_format = '{:.4f}'.format"
   ]
  },
  {
   "cell_type": "markdown",
   "metadata": {},
   "source": [
    "# Part 1: Prepare Avg distance calculation"
   ]
  },
  {
   "cell_type": "markdown",
   "metadata": {},
   "source": [
    "## Prepare Data"
   ]
  },
  {
   "cell_type": "markdown",
   "metadata": {},
   "source": [
    "**Read-In LOR shapes Charlottenburg-Wilmersdorf**"
   ]
  },
  {
   "cell_type": "code",
   "execution_count": 3,
   "metadata": {},
   "outputs": [],
   "source": [
    "df_lor = pd.DataFrame(gpd.read_file('lor_cw.geojson'))"
   ]
  },
  {
   "cell_type": "code",
   "execution_count": 4,
   "metadata": {},
   "outputs": [
    {
     "data": {
      "text/html": [
       "<div>\n",
       "<style scoped>\n",
       "    .dataframe tbody tr th:only-of-type {\n",
       "        vertical-align: middle;\n",
       "    }\n",
       "\n",
       "    .dataframe tbody tr th {\n",
       "        vertical-align: top;\n",
       "    }\n",
       "\n",
       "    .dataframe thead th {\n",
       "        text-align: right;\n",
       "    }\n",
       "</style>\n",
       "<table border=\"1\" class=\"dataframe\">\n",
       "  <thead>\n",
       "    <tr style=\"text-align: right;\">\n",
       "      <th></th>\n",
       "      <th>gml_id</th>\n",
       "      <th>spatial_name</th>\n",
       "      <th>spatial_alias</th>\n",
       "      <th>spatial_type</th>\n",
       "      <th>PLRNAME</th>\n",
       "      <th>BZRNAME</th>\n",
       "      <th>PGRNAME</th>\n",
       "      <th>BEZNAME</th>\n",
       "      <th>DATUM</th>\n",
       "      <th>SHAPE_AREA</th>\n",
       "      <th>geometry</th>\n",
       "    </tr>\n",
       "  </thead>\n",
       "  <tbody>\n",
       "    <tr>\n",
       "      <td>0</td>\n",
       "      <td>re_planungsraum.04010101</td>\n",
       "      <td>04010101</td>\n",
       "      <td>Jungfernheide</td>\n",
       "      <td>Polygon</td>\n",
       "      <td>Jungfernheide</td>\n",
       "      <td>Charlottenburg Nord</td>\n",
       "      <td>CW 1</td>\n",
       "      <td>Charlottenburg-Wilmersdorf</td>\n",
       "      <td>2006-06-14T00:00:00</td>\n",
       "      <td>3066535.9995</td>\n",
       "      <td>POLYGON ((13.27033 52.54935, 13.27033 52.54922...</td>\n",
       "    </tr>\n",
       "    <tr>\n",
       "      <td>1</td>\n",
       "      <td>re_planungsraum.04010102</td>\n",
       "      <td>04010102</td>\n",
       "      <td>Plötzensee</td>\n",
       "      <td>Polygon</td>\n",
       "      <td>Plötzensee</td>\n",
       "      <td>Charlottenburg Nord</td>\n",
       "      <td>CW 1</td>\n",
       "      <td>Charlottenburg-Wilmersdorf</td>\n",
       "      <td>2006-06-14T00:00:00</td>\n",
       "      <td>2167532.1210</td>\n",
       "      <td>POLYGON ((13.29729 52.54295, 13.29808 52.54279...</td>\n",
       "    </tr>\n",
       "    <tr>\n",
       "      <td>2</td>\n",
       "      <td>re_planungsraum.04010103</td>\n",
       "      <td>04010103</td>\n",
       "      <td>Paul-Hertz-Siedlung</td>\n",
       "      <td>Polygon</td>\n",
       "      <td>Paul-Hertz-Siedlung</td>\n",
       "      <td>Charlottenburg Nord</td>\n",
       "      <td>CW 1</td>\n",
       "      <td>Charlottenburg-Wilmersdorf</td>\n",
       "      <td>2006-06-14T00:00:00</td>\n",
       "      <td>555870.0931</td>\n",
       "      <td>POLYGON ((13.29423 52.53273, 13.29481 52.53287...</td>\n",
       "    </tr>\n",
       "  </tbody>\n",
       "</table>\n",
       "</div>"
      ],
      "text/plain": [
       "                     gml_id spatial_name        spatial_alias spatial_type  \\\n",
       "0  re_planungsraum.04010101     04010101        Jungfernheide      Polygon   \n",
       "1  re_planungsraum.04010102     04010102           Plötzensee      Polygon   \n",
       "2  re_planungsraum.04010103     04010103  Paul-Hertz-Siedlung      Polygon   \n",
       "\n",
       "               PLRNAME              BZRNAME PGRNAME  \\\n",
       "0        Jungfernheide  Charlottenburg Nord    CW 1   \n",
       "1           Plötzensee  Charlottenburg Nord    CW 1   \n",
       "2  Paul-Hertz-Siedlung  Charlottenburg Nord    CW 1   \n",
       "\n",
       "                      BEZNAME                DATUM   SHAPE_AREA  \\\n",
       "0  Charlottenburg-Wilmersdorf  2006-06-14T00:00:00 3066535.9995   \n",
       "1  Charlottenburg-Wilmersdorf  2006-06-14T00:00:00 2167532.1210   \n",
       "2  Charlottenburg-Wilmersdorf  2006-06-14T00:00:00  555870.0931   \n",
       "\n",
       "                                            geometry  \n",
       "0  POLYGON ((13.27033 52.54935, 13.27033 52.54922...  \n",
       "1  POLYGON ((13.29729 52.54295, 13.29808 52.54279...  \n",
       "2  POLYGON ((13.29423 52.53273, 13.29481 52.53287...  "
      ]
     },
     "execution_count": 4,
     "metadata": {},
     "output_type": "execute_result"
    }
   ],
   "source": [
    "df_lor.head(3)"
   ]
  },
  {
   "cell_type": "code",
   "execution_count": 5,
   "metadata": {},
   "outputs": [
    {
     "data": {
      "text/plain": [
       "57"
      ]
     },
     "execution_count": 5,
     "metadata": {},
     "output_type": "execute_result"
    }
   ],
   "source": [
    "df_lor.gml_id.count()"
   ]
  },
  {
   "cell_type": "code",
   "execution_count": 6,
   "metadata": {},
   "outputs": [
    {
     "data": {
      "text/plain": [
       "64.66365606656844"
      ]
     },
     "execution_count": 6,
     "metadata": {},
     "output_type": "execute_result"
    }
   ],
   "source": [
    "df_lor.SHAPE_AREA.sum()/1000000"
   ]
  },
  {
   "cell_type": "markdown",
   "metadata": {},
   "source": [
    "**Convert geometry column to geojson column**"
   ]
  },
  {
   "cell_type": "code",
   "execution_count": 7,
   "metadata": {},
   "outputs": [
    {
     "data": {
      "text/html": [
       "<div>\n",
       "<style scoped>\n",
       "    .dataframe tbody tr th:only-of-type {\n",
       "        vertical-align: middle;\n",
       "    }\n",
       "\n",
       "    .dataframe tbody tr th {\n",
       "        vertical-align: top;\n",
       "    }\n",
       "\n",
       "    .dataframe thead th {\n",
       "        text-align: right;\n",
       "    }\n",
       "</style>\n",
       "<table border=\"1\" class=\"dataframe\">\n",
       "  <thead>\n",
       "    <tr style=\"text-align: right;\">\n",
       "      <th></th>\n",
       "      <th>gml_id</th>\n",
       "      <th>spatial_name</th>\n",
       "      <th>spatial_alias</th>\n",
       "      <th>spatial_type</th>\n",
       "      <th>PLRNAME</th>\n",
       "      <th>BZRNAME</th>\n",
       "      <th>PGRNAME</th>\n",
       "      <th>BEZNAME</th>\n",
       "      <th>DATUM</th>\n",
       "      <th>SHAPE_AREA</th>\n",
       "      <th>geometry</th>\n",
       "      <th>geojson</th>\n",
       "    </tr>\n",
       "  </thead>\n",
       "  <tbody>\n",
       "    <tr>\n",
       "      <td>0</td>\n",
       "      <td>re_planungsraum.04010101</td>\n",
       "      <td>04010101</td>\n",
       "      <td>Jungfernheide</td>\n",
       "      <td>Polygon</td>\n",
       "      <td>Jungfernheide</td>\n",
       "      <td>Charlottenburg Nord</td>\n",
       "      <td>CW 1</td>\n",
       "      <td>Charlottenburg-Wilmersdorf</td>\n",
       "      <td>2006-06-14T00:00:00</td>\n",
       "      <td>3066535.9995</td>\n",
       "      <td>POLYGON ((13.27033 52.54935, 13.27033 52.54922...</td>\n",
       "      <td>{'type': 'Polygon', 'coordinates': [[[13.27033...</td>\n",
       "    </tr>\n",
       "    <tr>\n",
       "      <td>1</td>\n",
       "      <td>re_planungsraum.04010102</td>\n",
       "      <td>04010102</td>\n",
       "      <td>Plötzensee</td>\n",
       "      <td>Polygon</td>\n",
       "      <td>Plötzensee</td>\n",
       "      <td>Charlottenburg Nord</td>\n",
       "      <td>CW 1</td>\n",
       "      <td>Charlottenburg-Wilmersdorf</td>\n",
       "      <td>2006-06-14T00:00:00</td>\n",
       "      <td>2167532.1210</td>\n",
       "      <td>POLYGON ((13.29729 52.54295, 13.29808 52.54279...</td>\n",
       "      <td>{'type': 'Polygon', 'coordinates': [[[13.29728...</td>\n",
       "    </tr>\n",
       "    <tr>\n",
       "      <td>2</td>\n",
       "      <td>re_planungsraum.04010103</td>\n",
       "      <td>04010103</td>\n",
       "      <td>Paul-Hertz-Siedlung</td>\n",
       "      <td>Polygon</td>\n",
       "      <td>Paul-Hertz-Siedlung</td>\n",
       "      <td>Charlottenburg Nord</td>\n",
       "      <td>CW 1</td>\n",
       "      <td>Charlottenburg-Wilmersdorf</td>\n",
       "      <td>2006-06-14T00:00:00</td>\n",
       "      <td>555870.0931</td>\n",
       "      <td>POLYGON ((13.29423 52.53273, 13.29481 52.53287...</td>\n",
       "      <td>{'type': 'Polygon', 'coordinates': [[[13.29422...</td>\n",
       "    </tr>\n",
       "  </tbody>\n",
       "</table>\n",
       "</div>"
      ],
      "text/plain": [
       "                     gml_id spatial_name        spatial_alias spatial_type  \\\n",
       "0  re_planungsraum.04010101     04010101        Jungfernheide      Polygon   \n",
       "1  re_planungsraum.04010102     04010102           Plötzensee      Polygon   \n",
       "2  re_planungsraum.04010103     04010103  Paul-Hertz-Siedlung      Polygon   \n",
       "\n",
       "               PLRNAME              BZRNAME PGRNAME  \\\n",
       "0        Jungfernheide  Charlottenburg Nord    CW 1   \n",
       "1           Plötzensee  Charlottenburg Nord    CW 1   \n",
       "2  Paul-Hertz-Siedlung  Charlottenburg Nord    CW 1   \n",
       "\n",
       "                      BEZNAME                DATUM   SHAPE_AREA  \\\n",
       "0  Charlottenburg-Wilmersdorf  2006-06-14T00:00:00 3066535.9995   \n",
       "1  Charlottenburg-Wilmersdorf  2006-06-14T00:00:00 2167532.1210   \n",
       "2  Charlottenburg-Wilmersdorf  2006-06-14T00:00:00  555870.0931   \n",
       "\n",
       "                                            geometry  \\\n",
       "0  POLYGON ((13.27033 52.54935, 13.27033 52.54922...   \n",
       "1  POLYGON ((13.29729 52.54295, 13.29808 52.54279...   \n",
       "2  POLYGON ((13.29423 52.53273, 13.29481 52.53287...   \n",
       "\n",
       "                                             geojson  \n",
       "0  {'type': 'Polygon', 'coordinates': [[[13.27033...  \n",
       "1  {'type': 'Polygon', 'coordinates': [[[13.29728...  \n",
       "2  {'type': 'Polygon', 'coordinates': [[[13.29422...  "
      ]
     },
     "execution_count": 7,
     "metadata": {},
     "output_type": "execute_result"
    }
   ],
   "source": [
    "def to_geojson(geometry):\n",
    "    \n",
    "    points = str(geometry).replace('(','').replace(')','').replace('POLYGON ','').split(', ')\n",
    "    \n",
    "    coordinates = list()\n",
    "    \n",
    "    for string in points:\n",
    "        \n",
    "        lat_lon = string.split(' ')\n",
    "        lat_lon[0] = float(lat_lon[0])\n",
    "        lat_lon[1] = float(lat_lon[1])\n",
    "        \n",
    "        coordinates.append(lat_lon)\n",
    "        \n",
    "    geojson= list([coordinates])\n",
    "    return {\"type\": \"Polygon\", \"coordinates\": geojson}\n",
    "\n",
    "df_lor['geojson'] = df_lor.geometry.apply(lambda x: to_geojson(x))\n",
    "df_lor.head(3)"
   ]
  },
  {
   "cell_type": "markdown",
   "metadata": {},
   "source": [
    "**Read-In LOR structural data Charlottenburg Wilmersdorf**"
   ]
  },
  {
   "cell_type": "code",
   "execution_count": 8,
   "metadata": {},
   "outputs": [
    {
     "data": {
      "text/html": [
       "<div>\n",
       "<style scoped>\n",
       "    .dataframe tbody tr th:only-of-type {\n",
       "        vertical-align: middle;\n",
       "    }\n",
       "\n",
       "    .dataframe tbody tr th {\n",
       "        vertical-align: top;\n",
       "    }\n",
       "\n",
       "    .dataframe thead th {\n",
       "        text-align: right;\n",
       "    }\n",
       "</style>\n",
       "<table border=\"1\" class=\"dataframe\">\n",
       "  <thead>\n",
       "    <tr style=\"text-align: right;\">\n",
       "      <th></th>\n",
       "      <th>ZEIT</th>\n",
       "      <th>RAUMID</th>\n",
       "      <th>BEZ</th>\n",
       "      <th>PGR</th>\n",
       "      <th>BZR</th>\n",
       "      <th>PLR</th>\n",
       "      <th>STADTRAUM</th>\n",
       "      <th>E_E</th>\n",
       "      <th>E_EM</th>\n",
       "      <th>E_EW</th>\n",
       "      <th>...</th>\n",
       "      <th>E_E95_110</th>\n",
       "      <th>E_EU1</th>\n",
       "      <th>E_E1U6</th>\n",
       "      <th>E_E6U15</th>\n",
       "      <th>E_E15U18</th>\n",
       "      <th>E_E18U25</th>\n",
       "      <th>E_E25U55</th>\n",
       "      <th>E_E55U65</th>\n",
       "      <th>E_E65U80</th>\n",
       "      <th>E_E80U110</th>\n",
       "    </tr>\n",
       "  </thead>\n",
       "  <tbody>\n",
       "    <tr>\n",
       "      <td>0</td>\n",
       "      <td>201812</td>\n",
       "      <td>01011101</td>\n",
       "      <td>1</td>\n",
       "      <td>1</td>\n",
       "      <td>11</td>\n",
       "      <td>1</td>\n",
       "      <td>1</td>\n",
       "      <td>3384</td>\n",
       "      <td>1751</td>\n",
       "      <td>1633</td>\n",
       "      <td>...</td>\n",
       "      <td>6</td>\n",
       "      <td>27</td>\n",
       "      <td>151</td>\n",
       "      <td>120</td>\n",
       "      <td>38</td>\n",
       "      <td>322</td>\n",
       "      <td>1616</td>\n",
       "      <td>383</td>\n",
       "      <td>542</td>\n",
       "      <td>185</td>\n",
       "    </tr>\n",
       "    <tr>\n",
       "      <td>1</td>\n",
       "      <td>201812</td>\n",
       "      <td>01011102</td>\n",
       "      <td>1</td>\n",
       "      <td>1</td>\n",
       "      <td>11</td>\n",
       "      <td>2</td>\n",
       "      <td>1</td>\n",
       "      <td>196</td>\n",
       "      <td>127</td>\n",
       "      <td>69</td>\n",
       "      <td>...</td>\n",
       "      <td>0</td>\n",
       "      <td>0</td>\n",
       "      <td>3</td>\n",
       "      <td>3</td>\n",
       "      <td>3</td>\n",
       "      <td>12</td>\n",
       "      <td>115</td>\n",
       "      <td>38</td>\n",
       "      <td>22</td>\n",
       "      <td>0</td>\n",
       "    </tr>\n",
       "    <tr>\n",
       "      <td>2</td>\n",
       "      <td>201812</td>\n",
       "      <td>01011103</td>\n",
       "      <td>1</td>\n",
       "      <td>1</td>\n",
       "      <td>11</td>\n",
       "      <td>3</td>\n",
       "      <td>1</td>\n",
       "      <td>5038</td>\n",
       "      <td>2698</td>\n",
       "      <td>2340</td>\n",
       "      <td>...</td>\n",
       "      <td>21</td>\n",
       "      <td>48</td>\n",
       "      <td>195</td>\n",
       "      <td>325</td>\n",
       "      <td>109</td>\n",
       "      <td>412</td>\n",
       "      <td>2281</td>\n",
       "      <td>742</td>\n",
       "      <td>694</td>\n",
       "      <td>232</td>\n",
       "    </tr>\n",
       "  </tbody>\n",
       "</table>\n",
       "<p>3 rows × 51 columns</p>\n",
       "</div>"
      ],
      "text/plain": [
       "     ZEIT    RAUMID  BEZ  PGR  BZR  PLR  STADTRAUM   E_E  E_EM  E_EW  ...  \\\n",
       "0  201812  01011101    1    1   11    1          1  3384  1751  1633  ...   \n",
       "1  201812  01011102    1    1   11    2          1   196   127    69  ...   \n",
       "2  201812  01011103    1    1   11    3          1  5038  2698  2340  ...   \n",
       "\n",
       "   E_E95_110  E_EU1  E_E1U6  E_E6U15  E_E15U18  E_E18U25  E_E25U55  E_E55U65  \\\n",
       "0          6     27     151      120        38       322      1616       383   \n",
       "1          0      0       3        3         3        12       115        38   \n",
       "2         21     48     195      325       109       412      2281       742   \n",
       "\n",
       "   E_E65U80  E_E80U110  \n",
       "0       542        185  \n",
       "1        22          0  \n",
       "2       694        232  \n",
       "\n",
       "[3 rows x 51 columns]"
      ]
     },
     "execution_count": 8,
     "metadata": {},
     "output_type": "execute_result"
    }
   ],
   "source": [
    "df_lor_data = pd.read_csv('EWR201812E_Matrix.csv', sep=';', dtype={'RAUMID': str})\n",
    "df_lor_data.head(3)"
   ]
  },
  {
   "cell_type": "markdown",
   "metadata": {},
   "source": [
    "## Merge Data"
   ]
  },
  {
   "cell_type": "markdown",
   "metadata": {},
   "source": [
    "**Merge CH shapes with CH structural data**"
   ]
  },
  {
   "cell_type": "code",
   "execution_count": 9,
   "metadata": {},
   "outputs": [],
   "source": [
    "df_lor = df_lor.merge(df_lor_data[['RAUMID','E_E']], left_on='spatial_name', right_on='RAUMID')"
   ]
  },
  {
   "cell_type": "markdown",
   "metadata": {},
   "source": [
    "**Select, order and rename columns**"
   ]
  },
  {
   "cell_type": "code",
   "execution_count": 10,
   "metadata": {},
   "outputs": [],
   "source": [
    "df_lor = df_lor[['spatial_name','spatial_alias', 'SHAPE_AREA', 'E_E', 'geometry', 'geojson']]"
   ]
  },
  {
   "cell_type": "code",
   "execution_count": 11,
   "metadata": {},
   "outputs": [],
   "source": [
    "df_lor.rename(columns={\"spatial_name\": \"neighbourhood_id\", \n",
    "                       \"spatial_alias\": \"neighbourhood_name\", \n",
    "                       \"SHAPE_AREA\": \"area\",\n",
    "                       \"E_E\": \"pop\"\n",
    "                      }, inplace=True)"
   ]
  },
  {
   "cell_type": "code",
   "execution_count": 12,
   "metadata": {},
   "outputs": [
    {
     "data": {
      "text/html": [
       "<div>\n",
       "<style scoped>\n",
       "    .dataframe tbody tr th:only-of-type {\n",
       "        vertical-align: middle;\n",
       "    }\n",
       "\n",
       "    .dataframe tbody tr th {\n",
       "        vertical-align: top;\n",
       "    }\n",
       "\n",
       "    .dataframe thead th {\n",
       "        text-align: right;\n",
       "    }\n",
       "</style>\n",
       "<table border=\"1\" class=\"dataframe\">\n",
       "  <thead>\n",
       "    <tr style=\"text-align: right;\">\n",
       "      <th></th>\n",
       "      <th>neighbourhood_id</th>\n",
       "      <th>neighbourhood_name</th>\n",
       "      <th>area</th>\n",
       "      <th>pop</th>\n",
       "      <th>geometry</th>\n",
       "      <th>geojson</th>\n",
       "    </tr>\n",
       "  </thead>\n",
       "  <tbody>\n",
       "    <tr>\n",
       "      <td>0</td>\n",
       "      <td>04010101</td>\n",
       "      <td>Jungfernheide</td>\n",
       "      <td>3066535.9995</td>\n",
       "      <td>10785</td>\n",
       "      <td>POLYGON ((13.27033 52.54935, 13.27033 52.54922...</td>\n",
       "      <td>{'type': 'Polygon', 'coordinates': [[[13.27033...</td>\n",
       "    </tr>\n",
       "    <tr>\n",
       "      <td>1</td>\n",
       "      <td>04010102</td>\n",
       "      <td>Plötzensee</td>\n",
       "      <td>2167532.1210</td>\n",
       "      <td>812</td>\n",
       "      <td>POLYGON ((13.29729 52.54295, 13.29808 52.54279...</td>\n",
       "      <td>{'type': 'Polygon', 'coordinates': [[[13.29728...</td>\n",
       "    </tr>\n",
       "    <tr>\n",
       "      <td>2</td>\n",
       "      <td>04010103</td>\n",
       "      <td>Paul-Hertz-Siedlung</td>\n",
       "      <td>555870.0931</td>\n",
       "      <td>7881</td>\n",
       "      <td>POLYGON ((13.29423 52.53273, 13.29481 52.53287...</td>\n",
       "      <td>{'type': 'Polygon', 'coordinates': [[[13.29422...</td>\n",
       "    </tr>\n",
       "  </tbody>\n",
       "</table>\n",
       "</div>"
      ],
      "text/plain": [
       "  neighbourhood_id   neighbourhood_name         area    pop  \\\n",
       "0         04010101        Jungfernheide 3066535.9995  10785   \n",
       "1         04010102           Plötzensee 2167532.1210    812   \n",
       "2         04010103  Paul-Hertz-Siedlung  555870.0931   7881   \n",
       "\n",
       "                                            geometry  \\\n",
       "0  POLYGON ((13.27033 52.54935, 13.27033 52.54922...   \n",
       "1  POLYGON ((13.29729 52.54295, 13.29808 52.54279...   \n",
       "2  POLYGON ((13.29423 52.53273, 13.29481 52.53287...   \n",
       "\n",
       "                                             geojson  \n",
       "0  {'type': 'Polygon', 'coordinates': [[[13.27033...  \n",
       "1  {'type': 'Polygon', 'coordinates': [[[13.29728...  \n",
       "2  {'type': 'Polygon', 'coordinates': [[[13.29422...  "
      ]
     },
     "execution_count": 12,
     "metadata": {},
     "output_type": "execute_result"
    }
   ],
   "source": [
    "df_lor.head(3)"
   ]
  },
  {
   "cell_type": "markdown",
   "metadata": {},
   "source": [
    "## Calculate pre-measures"
   ]
  },
  {
   "cell_type": "markdown",
   "metadata": {},
   "source": [
    "**Calculate population density**"
   ]
  },
  {
   "cell_type": "code",
   "execution_count": 13,
   "metadata": {},
   "outputs": [],
   "source": [
    "df_lor['area'] = df_lor['area']/1000000"
   ]
  },
  {
   "cell_type": "code",
   "execution_count": 14,
   "metadata": {},
   "outputs": [],
   "source": [
    "df_lor['pop_den'] = df_lor['pop']/ (df_lor['area'])"
   ]
  },
  {
   "cell_type": "markdown",
   "metadata": {},
   "source": [
    "**Calculate scale factor 'pop share' based on population distribution**"
   ]
  },
  {
   "cell_type": "code",
   "execution_count": 15,
   "metadata": {},
   "outputs": [],
   "source": [
    "df_lor['pop_sum'] = df_lor['pop'].sum()"
   ]
  },
  {
   "cell_type": "code",
   "execution_count": 16,
   "metadata": {},
   "outputs": [],
   "source": [
    "df_lor['pop_share'] = df_lor['pop'] / df_lor['pop_sum']"
   ]
  },
  {
   "cell_type": "code",
   "execution_count": 17,
   "metadata": {},
   "outputs": [
    {
     "data": {
      "text/html": [
       "<div>\n",
       "<style scoped>\n",
       "    .dataframe tbody tr th:only-of-type {\n",
       "        vertical-align: middle;\n",
       "    }\n",
       "\n",
       "    .dataframe tbody tr th {\n",
       "        vertical-align: top;\n",
       "    }\n",
       "\n",
       "    .dataframe thead th {\n",
       "        text-align: right;\n",
       "    }\n",
       "</style>\n",
       "<table border=\"1\" class=\"dataframe\">\n",
       "  <thead>\n",
       "    <tr style=\"text-align: right;\">\n",
       "      <th></th>\n",
       "      <th>neighbourhood_id</th>\n",
       "      <th>neighbourhood_name</th>\n",
       "      <th>area</th>\n",
       "      <th>pop</th>\n",
       "      <th>geometry</th>\n",
       "      <th>geojson</th>\n",
       "      <th>pop_den</th>\n",
       "      <th>pop_sum</th>\n",
       "      <th>pop_share</th>\n",
       "    </tr>\n",
       "  </thead>\n",
       "  <tbody>\n",
       "    <tr>\n",
       "      <td>0</td>\n",
       "      <td>04010101</td>\n",
       "      <td>Jungfernheide</td>\n",
       "      <td>3.0665</td>\n",
       "      <td>10785</td>\n",
       "      <td>POLYGON ((13.27033 52.54935, 13.27033 52.54922...</td>\n",
       "      <td>{'type': 'Polygon', 'coordinates': [[[13.27033...</td>\n",
       "      <td>3516.9977</td>\n",
       "      <td>341327</td>\n",
       "      <td>0.0316</td>\n",
       "    </tr>\n",
       "    <tr>\n",
       "      <td>1</td>\n",
       "      <td>04010102</td>\n",
       "      <td>Plötzensee</td>\n",
       "      <td>2.1675</td>\n",
       "      <td>812</td>\n",
       "      <td>POLYGON ((13.29729 52.54295, 13.29808 52.54279...</td>\n",
       "      <td>{'type': 'Polygon', 'coordinates': [[[13.29728...</td>\n",
       "      <td>374.6196</td>\n",
       "      <td>341327</td>\n",
       "      <td>0.0024</td>\n",
       "    </tr>\n",
       "    <tr>\n",
       "      <td>2</td>\n",
       "      <td>04010103</td>\n",
       "      <td>Paul-Hertz-Siedlung</td>\n",
       "      <td>0.5559</td>\n",
       "      <td>7881</td>\n",
       "      <td>POLYGON ((13.29423 52.53273, 13.29481 52.53287...</td>\n",
       "      <td>{'type': 'Polygon', 'coordinates': [[[13.29422...</td>\n",
       "      <td>14177.7730</td>\n",
       "      <td>341327</td>\n",
       "      <td>0.0231</td>\n",
       "    </tr>\n",
       "  </tbody>\n",
       "</table>\n",
       "</div>"
      ],
      "text/plain": [
       "  neighbourhood_id   neighbourhood_name   area    pop  \\\n",
       "0         04010101        Jungfernheide 3.0665  10785   \n",
       "1         04010102           Plötzensee 2.1675    812   \n",
       "2         04010103  Paul-Hertz-Siedlung 0.5559   7881   \n",
       "\n",
       "                                            geometry  \\\n",
       "0  POLYGON ((13.27033 52.54935, 13.27033 52.54922...   \n",
       "1  POLYGON ((13.29729 52.54295, 13.29808 52.54279...   \n",
       "2  POLYGON ((13.29423 52.53273, 13.29481 52.53287...   \n",
       "\n",
       "                                             geojson    pop_den  pop_sum  \\\n",
       "0  {'type': 'Polygon', 'coordinates': [[[13.27033...  3516.9977   341327   \n",
       "1  {'type': 'Polygon', 'coordinates': [[[13.29728...   374.6196   341327   \n",
       "2  {'type': 'Polygon', 'coordinates': [[[13.29422... 14177.7730   341327   \n",
       "\n",
       "   pop_share  \n",
       "0     0.0316  \n",
       "1     0.0024  \n",
       "2     0.0231  "
      ]
     },
     "execution_count": 17,
     "metadata": {},
     "output_type": "execute_result"
    }
   ],
   "source": [
    "df_lor.head(3)"
   ]
  },
  {
   "cell_type": "markdown",
   "metadata": {},
   "source": [
    "## Calculate avg distances from one lor to all other"
   ]
  },
  {
   "cell_type": "markdown",
   "metadata": {},
   "source": [
    "**Get centroid coords**"
   ]
  },
  {
   "cell_type": "code",
   "execution_count": 18,
   "metadata": {},
   "outputs": [],
   "source": [
    "def get_centroid(x):\n",
    "    \n",
    "    return [x.geometry.centroid.coords[0][0],x.geometry.centroid.coords[0][1]]\n",
    "\n",
    "df_lor[['geo_center_lon','geo_center_lat']] = pd.DataFrame(df_lor.apply(lambda x: get_centroid(x), axis=1).tolist(), index=df_lor.index)"
   ]
  },
  {
   "cell_type": "markdown",
   "metadata": {},
   "source": [
    "**Build all combinations via merge**"
   ]
  },
  {
   "cell_type": "code",
   "execution_count": 19,
   "metadata": {},
   "outputs": [
    {
     "data": {
      "text/html": [
       "<div>\n",
       "<style scoped>\n",
       "    .dataframe tbody tr th:only-of-type {\n",
       "        vertical-align: middle;\n",
       "    }\n",
       "\n",
       "    .dataframe tbody tr th {\n",
       "        vertical-align: top;\n",
       "    }\n",
       "\n",
       "    .dataframe thead th {\n",
       "        text-align: right;\n",
       "    }\n",
       "</style>\n",
       "<table border=\"1\" class=\"dataframe\">\n",
       "  <thead>\n",
       "    <tr style=\"text-align: right;\">\n",
       "      <th></th>\n",
       "      <th>neighbourhood_id_x</th>\n",
       "      <th>neighbourhood_id_y</th>\n",
       "      <th>geo_center_lat_x</th>\n",
       "      <th>geo_center_lon_x</th>\n",
       "      <th>geo_center_lat_y</th>\n",
       "      <th>geo_center_lon_y</th>\n",
       "    </tr>\n",
       "  </thead>\n",
       "  <tbody>\n",
       "    <tr>\n",
       "      <td>0</td>\n",
       "      <td>04010101</td>\n",
       "      <td>04010101</td>\n",
       "      <td>52.5410</td>\n",
       "      <td>13.2855</td>\n",
       "      <td>52.5410</td>\n",
       "      <td>13.2855</td>\n",
       "    </tr>\n",
       "    <tr>\n",
       "      <td>1</td>\n",
       "      <td>04010101</td>\n",
       "      <td>04010102</td>\n",
       "      <td>52.5410</td>\n",
       "      <td>13.2855</td>\n",
       "      <td>52.5421</td>\n",
       "      <td>13.3122</td>\n",
       "    </tr>\n",
       "    <tr>\n",
       "      <td>2</td>\n",
       "      <td>04010101</td>\n",
       "      <td>04010103</td>\n",
       "      <td>52.5410</td>\n",
       "      <td>13.2855</td>\n",
       "      <td>52.5371</td>\n",
       "      <td>13.2995</td>\n",
       "    </tr>\n",
       "  </tbody>\n",
       "</table>\n",
       "</div>"
      ],
      "text/plain": [
       "  neighbourhood_id_x neighbourhood_id_y  geo_center_lat_x  geo_center_lon_x  \\\n",
       "0           04010101           04010101           52.5410           13.2855   \n",
       "1           04010101           04010102           52.5410           13.2855   \n",
       "2           04010101           04010103           52.5410           13.2855   \n",
       "\n",
       "   geo_center_lat_y  geo_center_lon_y  \n",
       "0           52.5410           13.2855  \n",
       "1           52.5421           13.3122  \n",
       "2           52.5371           13.2995  "
      ]
     },
     "execution_count": 19,
     "metadata": {},
     "output_type": "execute_result"
    }
   ],
   "source": [
    "df_lor['mg'] = 1\n",
    "df_dist = df_lor.merge(df_lor[['neighbourhood_id', 'geo_center_lat', 'geo_center_lon', 'mg']], on='mg')\n",
    "df_dist = df_dist[['neighbourhood_id_x', 'neighbourhood_id_y', 'geo_center_lat_x', 'geo_center_lon_x', 'geo_center_lat_y', 'geo_center_lon_y']]\n",
    "df_dist.head(3)"
   ]
  },
  {
   "cell_type": "code",
   "execution_count": 20,
   "metadata": {},
   "outputs": [],
   "source": [
    "df_dist = df_dist[df_dist.neighbourhood_id_x != df_dist.neighbourhood_id_y]"
   ]
  },
  {
   "cell_type": "markdown",
   "metadata": {},
   "source": [
    "**Calculate all distances**"
   ]
  },
  {
   "cell_type": "code",
   "execution_count": 21,
   "metadata": {},
   "outputs": [
    {
     "data": {
      "text/html": [
       "<div>\n",
       "<style scoped>\n",
       "    .dataframe tbody tr th:only-of-type {\n",
       "        vertical-align: middle;\n",
       "    }\n",
       "\n",
       "    .dataframe tbody tr th {\n",
       "        vertical-align: top;\n",
       "    }\n",
       "\n",
       "    .dataframe thead th {\n",
       "        text-align: right;\n",
       "    }\n",
       "</style>\n",
       "<table border=\"1\" class=\"dataframe\">\n",
       "  <thead>\n",
       "    <tr style=\"text-align: right;\">\n",
       "      <th></th>\n",
       "      <th>neighbourhood_id_x</th>\n",
       "      <th>neighbourhood_id_y</th>\n",
       "      <th>geo_center_lat_x</th>\n",
       "      <th>geo_center_lon_x</th>\n",
       "      <th>geo_center_lat_y</th>\n",
       "      <th>geo_center_lon_y</th>\n",
       "      <th>geo_dist</th>\n",
       "    </tr>\n",
       "  </thead>\n",
       "  <tbody>\n",
       "    <tr>\n",
       "      <td>1</td>\n",
       "      <td>04010101</td>\n",
       "      <td>04010102</td>\n",
       "      <td>52.5410</td>\n",
       "      <td>13.2855</td>\n",
       "      <td>52.5421</td>\n",
       "      <td>13.3122</td>\n",
       "      <td>1817.8002</td>\n",
       "    </tr>\n",
       "    <tr>\n",
       "      <td>2</td>\n",
       "      <td>04010101</td>\n",
       "      <td>04010103</td>\n",
       "      <td>52.5410</td>\n",
       "      <td>13.2855</td>\n",
       "      <td>52.5371</td>\n",
       "      <td>13.2995</td>\n",
       "      <td>1042.6567</td>\n",
       "    </tr>\n",
       "    <tr>\n",
       "      <td>3</td>\n",
       "      <td>04010101</td>\n",
       "      <td>04020204</td>\n",
       "      <td>52.5410</td>\n",
       "      <td>13.2855</td>\n",
       "      <td>52.5177</td>\n",
       "      <td>13.2324</td>\n",
       "      <td>4436.9082</td>\n",
       "    </tr>\n",
       "  </tbody>\n",
       "</table>\n",
       "</div>"
      ],
      "text/plain": [
       "  neighbourhood_id_x neighbourhood_id_y  geo_center_lat_x  geo_center_lon_x  \\\n",
       "1           04010101           04010102           52.5410           13.2855   \n",
       "2           04010101           04010103           52.5410           13.2855   \n",
       "3           04010101           04020204           52.5410           13.2855   \n",
       "\n",
       "   geo_center_lat_y  geo_center_lon_y  geo_dist  \n",
       "1           52.5421           13.3122 1817.8002  \n",
       "2           52.5371           13.2995 1042.6567  \n",
       "3           52.5177           13.2324 4436.9082  "
      ]
     },
     "execution_count": 21,
     "metadata": {},
     "output_type": "execute_result"
    }
   ],
   "source": [
    "wgs84_geod = Geod(ellps='WGS84')\n",
    "\n",
    "def distance(lat1,lon1,lat2,lon2):\n",
    "    az12,az21,dist = wgs84_geod.inv(lon1,lat1,lon2,lat2)\n",
    "    return dist\n",
    "\n",
    "df_dist['geo_dist'] = df_dist.apply(lambda x: distance(x.geo_center_lat_x, x.geo_center_lon_x, x.geo_center_lat_y, x.geo_center_lon_y), axis=1)\n",
    "df_dist.head(3)"
   ]
  },
  {
   "cell_type": "markdown",
   "metadata": {},
   "source": [
    "**Calculate avg distance per hexagon**"
   ]
  },
  {
   "cell_type": "code",
   "execution_count": 22,
   "metadata": {},
   "outputs": [],
   "source": [
    "df_dist = df_dist.groupby(['neighbourhood_id_x']).agg({'geo_dist': 'mean'}).reset_index()"
   ]
  },
  {
   "cell_type": "code",
   "execution_count": 23,
   "metadata": {},
   "outputs": [
    {
     "data": {
      "text/html": [
       "<div>\n",
       "<style scoped>\n",
       "    .dataframe tbody tr th:only-of-type {\n",
       "        vertical-align: middle;\n",
       "    }\n",
       "\n",
       "    .dataframe tbody tr th {\n",
       "        vertical-align: top;\n",
       "    }\n",
       "\n",
       "    .dataframe thead th {\n",
       "        text-align: right;\n",
       "    }\n",
       "</style>\n",
       "<table border=\"1\" class=\"dataframe\">\n",
       "  <thead>\n",
       "    <tr style=\"text-align: right;\">\n",
       "      <th></th>\n",
       "      <th>neighbourhood_id_x</th>\n",
       "      <th>geo_dist</th>\n",
       "    </tr>\n",
       "  </thead>\n",
       "  <tbody>\n",
       "    <tr>\n",
       "      <td>0</td>\n",
       "      <td>04010101</td>\n",
       "      <td>4985.5787</td>\n",
       "    </tr>\n",
       "    <tr>\n",
       "      <td>1</td>\n",
       "      <td>04010102</td>\n",
       "      <td>5196.0255</td>\n",
       "    </tr>\n",
       "    <tr>\n",
       "      <td>2</td>\n",
       "      <td>04010103</td>\n",
       "      <td>4571.8767</td>\n",
       "    </tr>\n",
       "  </tbody>\n",
       "</table>\n",
       "</div>"
      ],
      "text/plain": [
       "  neighbourhood_id_x  geo_dist\n",
       "0           04010101 4985.5787\n",
       "1           04010102 5196.0255\n",
       "2           04010103 4571.8767"
      ]
     },
     "execution_count": 23,
     "metadata": {},
     "output_type": "execute_result"
    }
   ],
   "source": [
    "df_dist.head(3)"
   ]
  },
  {
   "cell_type": "code",
   "execution_count": 24,
   "metadata": {},
   "outputs": [
    {
     "data": {
      "text/plain": [
       "<matplotlib.axes._subplots.AxesSubplot at 0x252ef58cc48>"
      ]
     },
     "execution_count": 24,
     "metadata": {},
     "output_type": "execute_result"
    },
    {
     "data": {
      "image/png": "[encoded data removed]",
      "text/plain": [
       "<Figure size 432x288 with 1 Axes>"
      ]
     },
     "metadata": {
      "needs_background": "light"
     },
     "output_type": "display_data"
    }
   ],
   "source": [
    "plt.figure()\n",
    "df_dist.geo_dist.plot.box()"
   ]
  },
  {
   "cell_type": "markdown",
   "metadata": {},
   "source": [
    "**Merge to lor table**"
   ]
  },
  {
   "cell_type": "code",
   "execution_count": 25,
   "metadata": {},
   "outputs": [],
   "source": [
    "df_lor = df_lor.merge(df_dist, left_on='neighbourhood_id', right_on='neighbourhood_id_x').drop(columns=['mg', 'neighbourhood_id_x'])\n",
    "df_lor.rename(columns={'geo_dist': 'geo_dist_out_avg'}, inplace=True)"
   ]
  },
  {
   "cell_type": "code",
   "execution_count": 26,
   "metadata": {},
   "outputs": [
    {
     "data": {
      "text/html": [
       "<div>\n",
       "<style scoped>\n",
       "    .dataframe tbody tr th:only-of-type {\n",
       "        vertical-align: middle;\n",
       "    }\n",
       "\n",
       "    .dataframe tbody tr th {\n",
       "        vertical-align: top;\n",
       "    }\n",
       "\n",
       "    .dataframe thead th {\n",
       "        text-align: right;\n",
       "    }\n",
       "</style>\n",
       "<table border=\"1\" class=\"dataframe\">\n",
       "  <thead>\n",
       "    <tr style=\"text-align: right;\">\n",
       "      <th></th>\n",
       "      <th>neighbourhood_id</th>\n",
       "      <th>neighbourhood_name</th>\n",
       "      <th>area</th>\n",
       "      <th>pop</th>\n",
       "      <th>geometry</th>\n",
       "      <th>geojson</th>\n",
       "      <th>pop_den</th>\n",
       "      <th>pop_sum</th>\n",
       "      <th>pop_share</th>\n",
       "      <th>geo_center_lon</th>\n",
       "      <th>geo_center_lat</th>\n",
       "      <th>geo_dist_out_avg</th>\n",
       "    </tr>\n",
       "  </thead>\n",
       "  <tbody>\n",
       "    <tr>\n",
       "      <td>0</td>\n",
       "      <td>04010101</td>\n",
       "      <td>Jungfernheide</td>\n",
       "      <td>3.0665</td>\n",
       "      <td>10785</td>\n",
       "      <td>POLYGON ((13.27033 52.54935, 13.27033 52.54922...</td>\n",
       "      <td>{'type': 'Polygon', 'coordinates': [[[13.27033...</td>\n",
       "      <td>3516.9977</td>\n",
       "      <td>341327</td>\n",
       "      <td>0.0316</td>\n",
       "      <td>13.2855</td>\n",
       "      <td>52.5410</td>\n",
       "      <td>4985.5787</td>\n",
       "    </tr>\n",
       "    <tr>\n",
       "      <td>1</td>\n",
       "      <td>04010102</td>\n",
       "      <td>Plötzensee</td>\n",
       "      <td>2.1675</td>\n",
       "      <td>812</td>\n",
       "      <td>POLYGON ((13.29729 52.54295, 13.29808 52.54279...</td>\n",
       "      <td>{'type': 'Polygon', 'coordinates': [[[13.29728...</td>\n",
       "      <td>374.6196</td>\n",
       "      <td>341327</td>\n",
       "      <td>0.0024</td>\n",
       "      <td>13.3122</td>\n",
       "      <td>52.5421</td>\n",
       "      <td>5196.0255</td>\n",
       "    </tr>\n",
       "    <tr>\n",
       "      <td>2</td>\n",
       "      <td>04010103</td>\n",
       "      <td>Paul-Hertz-Siedlung</td>\n",
       "      <td>0.5559</td>\n",
       "      <td>7881</td>\n",
       "      <td>POLYGON ((13.29423 52.53273, 13.29481 52.53287...</td>\n",
       "      <td>{'type': 'Polygon', 'coordinates': [[[13.29422...</td>\n",
       "      <td>14177.7730</td>\n",
       "      <td>341327</td>\n",
       "      <td>0.0231</td>\n",
       "      <td>13.2995</td>\n",
       "      <td>52.5371</td>\n",
       "      <td>4571.8767</td>\n",
       "    </tr>\n",
       "  </tbody>\n",
       "</table>\n",
       "</div>"
      ],
      "text/plain": [
       "  neighbourhood_id   neighbourhood_name   area    pop  \\\n",
       "0         04010101        Jungfernheide 3.0665  10785   \n",
       "1         04010102           Plötzensee 2.1675    812   \n",
       "2         04010103  Paul-Hertz-Siedlung 0.5559   7881   \n",
       "\n",
       "                                            geometry  \\\n",
       "0  POLYGON ((13.27033 52.54935, 13.27033 52.54922...   \n",
       "1  POLYGON ((13.29729 52.54295, 13.29808 52.54279...   \n",
       "2  POLYGON ((13.29423 52.53273, 13.29481 52.53287...   \n",
       "\n",
       "                                             geojson    pop_den  pop_sum  \\\n",
       "0  {'type': 'Polygon', 'coordinates': [[[13.27033...  3516.9977   341327   \n",
       "1  {'type': 'Polygon', 'coordinates': [[[13.29728...   374.6196   341327   \n",
       "2  {'type': 'Polygon', 'coordinates': [[[13.29422... 14177.7730   341327   \n",
       "\n",
       "   pop_share  geo_center_lon  geo_center_lat  geo_dist_out_avg  \n",
       "0     0.0316         13.2855         52.5410         4985.5787  \n",
       "1     0.0024         13.3122         52.5421         5196.0255  \n",
       "2     0.0231         13.2995         52.5371         4571.8767  "
      ]
     },
     "execution_count": 26,
     "metadata": {},
     "output_type": "execute_result"
    }
   ],
   "source": [
    "df_lor.head(3)"
   ]
  },
  {
   "cell_type": "markdown",
   "metadata": {},
   "source": [
    "**Assume factor 1.3 for street distance from beeline distance**"
   ]
  },
  {
   "cell_type": "code",
   "execution_count": 27,
   "metadata": {},
   "outputs": [],
   "source": [
    "beeline_dist_factor = 1.3"
   ]
  },
  {
   "cell_type": "code",
   "execution_count": 28,
   "metadata": {},
   "outputs": [],
   "source": [
    "df_lor['street_dist_out_avg'] = beeline_dist_factor * df_lor['geo_dist_out_avg']"
   ]
  },
  {
   "cell_type": "code",
   "execution_count": 29,
   "metadata": {},
   "outputs": [
    {
     "data": {
      "text/html": [
       "<div>\n",
       "<style scoped>\n",
       "    .dataframe tbody tr th:only-of-type {\n",
       "        vertical-align: middle;\n",
       "    }\n",
       "\n",
       "    .dataframe tbody tr th {\n",
       "        vertical-align: top;\n",
       "    }\n",
       "\n",
       "    .dataframe thead th {\n",
       "        text-align: right;\n",
       "    }\n",
       "</style>\n",
       "<table border=\"1\" class=\"dataframe\">\n",
       "  <thead>\n",
       "    <tr style=\"text-align: right;\">\n",
       "      <th></th>\n",
       "      <th>neighbourhood_id</th>\n",
       "      <th>neighbourhood_name</th>\n",
       "      <th>area</th>\n",
       "      <th>pop</th>\n",
       "      <th>geometry</th>\n",
       "      <th>geojson</th>\n",
       "      <th>pop_den</th>\n",
       "      <th>pop_sum</th>\n",
       "      <th>pop_share</th>\n",
       "      <th>geo_center_lon</th>\n",
       "      <th>geo_center_lat</th>\n",
       "      <th>geo_dist_out_avg</th>\n",
       "      <th>street_dist_out_avg</th>\n",
       "    </tr>\n",
       "  </thead>\n",
       "  <tbody>\n",
       "    <tr>\n",
       "      <td>0</td>\n",
       "      <td>04010101</td>\n",
       "      <td>Jungfernheide</td>\n",
       "      <td>3.0665</td>\n",
       "      <td>10785</td>\n",
       "      <td>POLYGON ((13.27033 52.54935, 13.27033 52.54922...</td>\n",
       "      <td>{'type': 'Polygon', 'coordinates': [[[13.27033...</td>\n",
       "      <td>3516.9977</td>\n",
       "      <td>341327</td>\n",
       "      <td>0.0316</td>\n",
       "      <td>13.2855</td>\n",
       "      <td>52.5410</td>\n",
       "      <td>4985.5787</td>\n",
       "      <td>6481.2523</td>\n",
       "    </tr>\n",
       "    <tr>\n",
       "      <td>1</td>\n",
       "      <td>04010102</td>\n",
       "      <td>Plötzensee</td>\n",
       "      <td>2.1675</td>\n",
       "      <td>812</td>\n",
       "      <td>POLYGON ((13.29729 52.54295, 13.29808 52.54279...</td>\n",
       "      <td>{'type': 'Polygon', 'coordinates': [[[13.29728...</td>\n",
       "      <td>374.6196</td>\n",
       "      <td>341327</td>\n",
       "      <td>0.0024</td>\n",
       "      <td>13.3122</td>\n",
       "      <td>52.5421</td>\n",
       "      <td>5196.0255</td>\n",
       "      <td>6754.8331</td>\n",
       "    </tr>\n",
       "    <tr>\n",
       "      <td>2</td>\n",
       "      <td>04010103</td>\n",
       "      <td>Paul-Hertz-Siedlung</td>\n",
       "      <td>0.5559</td>\n",
       "      <td>7881</td>\n",
       "      <td>POLYGON ((13.29423 52.53273, 13.29481 52.53287...</td>\n",
       "      <td>{'type': 'Polygon', 'coordinates': [[[13.29422...</td>\n",
       "      <td>14177.7730</td>\n",
       "      <td>341327</td>\n",
       "      <td>0.0231</td>\n",
       "      <td>13.2995</td>\n",
       "      <td>52.5371</td>\n",
       "      <td>4571.8767</td>\n",
       "      <td>5943.4398</td>\n",
       "    </tr>\n",
       "  </tbody>\n",
       "</table>\n",
       "</div>"
      ],
      "text/plain": [
       "  neighbourhood_id   neighbourhood_name   area    pop  \\\n",
       "0         04010101        Jungfernheide 3.0665  10785   \n",
       "1         04010102           Plötzensee 2.1675    812   \n",
       "2         04010103  Paul-Hertz-Siedlung 0.5559   7881   \n",
       "\n",
       "                                            geometry  \\\n",
       "0  POLYGON ((13.27033 52.54935, 13.27033 52.54922...   \n",
       "1  POLYGON ((13.29729 52.54295, 13.29808 52.54279...   \n",
       "2  POLYGON ((13.29423 52.53273, 13.29481 52.53287...   \n",
       "\n",
       "                                             geojson    pop_den  pop_sum  \\\n",
       "0  {'type': 'Polygon', 'coordinates': [[[13.27033...  3516.9977   341327   \n",
       "1  {'type': 'Polygon', 'coordinates': [[[13.29728...   374.6196   341327   \n",
       "2  {'type': 'Polygon', 'coordinates': [[[13.29422... 14177.7730   341327   \n",
       "\n",
       "   pop_share  geo_center_lon  geo_center_lat  geo_dist_out_avg  \\\n",
       "0     0.0316         13.2855         52.5410         4985.5787   \n",
       "1     0.0024         13.3122         52.5421         5196.0255   \n",
       "2     0.0231         13.2995         52.5371         4571.8767   \n",
       "\n",
       "   street_dist_out_avg  \n",
       "0            6481.2523  \n",
       "1            6754.8331  \n",
       "2            5943.4398  "
      ]
     },
     "execution_count": 29,
     "metadata": {},
     "output_type": "execute_result"
    }
   ],
   "source": [
    "df_lor.head(3)"
   ]
  },
  {
   "cell_type": "markdown",
   "metadata": {},
   "source": [
    "# Part 2: Calculate Min Distance and Avg Distance based on orders"
   ]
  },
  {
   "cell_type": "code",
   "execution_count": 30,
   "metadata": {},
   "outputs": [
    {
     "data": {
      "text/html": [
       "<div>\n",
       "<style scoped>\n",
       "    .dataframe tbody tr th:only-of-type {\n",
       "        vertical-align: middle;\n",
       "    }\n",
       "\n",
       "    .dataframe tbody tr th {\n",
       "        vertical-align: top;\n",
       "    }\n",
       "\n",
       "    .dataframe thead th {\n",
       "        text-align: right;\n",
       "    }\n",
       "</style>\n",
       "<table border=\"1\" class=\"dataframe\">\n",
       "  <thead>\n",
       "    <tr style=\"text-align: right;\">\n",
       "      <th></th>\n",
       "      <th>neighbourhood_id</th>\n",
       "      <th>neighbourhood_name</th>\n",
       "      <th>area</th>\n",
       "      <th>pop</th>\n",
       "      <th>pop_den</th>\n",
       "      <th>pop_share</th>\n",
       "      <th>geo_dist_out_avg</th>\n",
       "      <th>street_dist_out_avg</th>\n",
       "    </tr>\n",
       "  </thead>\n",
       "  <tbody>\n",
       "    <tr>\n",
       "      <td>0</td>\n",
       "      <td>04010101</td>\n",
       "      <td>Jungfernheide</td>\n",
       "      <td>3.0665</td>\n",
       "      <td>10785</td>\n",
       "      <td>3516.9977</td>\n",
       "      <td>0.0316</td>\n",
       "      <td>4985.5787</td>\n",
       "      <td>6481.2523</td>\n",
       "    </tr>\n",
       "    <tr>\n",
       "      <td>1</td>\n",
       "      <td>04010102</td>\n",
       "      <td>Plötzensee</td>\n",
       "      <td>2.1675</td>\n",
       "      <td>812</td>\n",
       "      <td>374.6196</td>\n",
       "      <td>0.0024</td>\n",
       "      <td>5196.0255</td>\n",
       "      <td>6754.8331</td>\n",
       "    </tr>\n",
       "    <tr>\n",
       "      <td>2</td>\n",
       "      <td>04010103</td>\n",
       "      <td>Paul-Hertz-Siedlung</td>\n",
       "      <td>0.5559</td>\n",
       "      <td>7881</td>\n",
       "      <td>14177.7730</td>\n",
       "      <td>0.0231</td>\n",
       "      <td>4571.8767</td>\n",
       "      <td>5943.4398</td>\n",
       "    </tr>\n",
       "  </tbody>\n",
       "</table>\n",
       "</div>"
      ],
      "text/plain": [
       "  neighbourhood_id   neighbourhood_name   area    pop    pop_den  pop_share  \\\n",
       "0         04010101        Jungfernheide 3.0665  10785  3516.9977     0.0316   \n",
       "1         04010102           Plötzensee 2.1675    812   374.6196     0.0024   \n",
       "2         04010103  Paul-Hertz-Siedlung 0.5559   7881 14177.7730     0.0231   \n",
       "\n",
       "   geo_dist_out_avg  street_dist_out_avg  \n",
       "0         4985.5787            6481.2523  \n",
       "1         5196.0255            6754.8331  \n",
       "2         4571.8767            5943.4398  "
      ]
     },
     "execution_count": 30,
     "metadata": {},
     "output_type": "execute_result"
    }
   ],
   "source": [
    "df_lor[['neighbourhood_id', 'neighbourhood_name', 'area', 'pop', 'pop_den', 'pop_share', 'geo_dist_out_avg', 'street_dist_out_avg']].head(3)"
   ]
  },
  {
   "cell_type": "markdown",
   "metadata": {},
   "source": [
    "**Read-In avg. orders numbers**"
   ]
  },
  {
   "cell_type": "code",
   "execution_count": 31,
   "metadata": {},
   "outputs": [],
   "source": [
    "distances_year = pd.DataFrame({'year':[2021, 2022, 2023], 'orders':[498, 1668, 3305]})"
   ]
  },
  {
   "cell_type": "code",
   "execution_count": 33,
   "metadata": {},
   "outputs": [
    {
     "data": {
      "text/html": [
       "<div>\n",
       "<style scoped>\n",
       "    .dataframe tbody tr th:only-of-type {\n",
       "        vertical-align: middle;\n",
       "    }\n",
       "\n",
       "    .dataframe tbody tr th {\n",
       "        vertical-align: top;\n",
       "    }\n",
       "\n",
       "    .dataframe thead th {\n",
       "        text-align: right;\n",
       "    }\n",
       "</style>\n",
       "<table border=\"1\" class=\"dataframe\">\n",
       "  <thead>\n",
       "    <tr style=\"text-align: right;\">\n",
       "      <th></th>\n",
       "      <th>year</th>\n",
       "      <th>orders</th>\n",
       "      <th>orders_per_shift</th>\n",
       "    </tr>\n",
       "  </thead>\n",
       "  <tbody>\n",
       "    <tr>\n",
       "      <td>0</td>\n",
       "      <td>2021</td>\n",
       "      <td>221.3333</td>\n",
       "      <td>110.6667</td>\n",
       "    </tr>\n",
       "    <tr>\n",
       "      <td>1</td>\n",
       "      <td>2022</td>\n",
       "      <td>741.3333</td>\n",
       "      <td>370.6667</td>\n",
       "    </tr>\n",
       "    <tr>\n",
       "      <td>2</td>\n",
       "      <td>2023</td>\n",
       "      <td>1468.8889</td>\n",
       "      <td>734.4444</td>\n",
       "    </tr>\n",
       "  </tbody>\n",
       "</table>\n",
       "</div>"
      ],
      "text/plain": [
       "   year    orders  orders_per_shift\n",
       "0  2021  221.3333          110.6667\n",
       "1  2022  741.3333          370.6667\n",
       "2  2023 1468.8889          734.4444"
      ]
     },
     "execution_count": 33,
     "metadata": {},
     "output_type": "execute_result"
    }
   ],
   "source": [
    "distances_year['orders'] = distances_year['orders']*(1/1.5)\n",
    "distances_year['orders_per_shift'] = distances_year['orders']/2\n",
    "distances_year.head(3)"
   ]
  },
  {
   "cell_type": "code",
   "execution_count": 34,
   "metadata": {},
   "outputs": [
    {
     "data": {
      "text/html": [
       "<div>\n",
       "<style scoped>\n",
       "    .dataframe tbody tr th:only-of-type {\n",
       "        vertical-align: middle;\n",
       "    }\n",
       "\n",
       "    .dataframe tbody tr th {\n",
       "        vertical-align: top;\n",
       "    }\n",
       "\n",
       "    .dataframe thead th {\n",
       "        text-align: right;\n",
       "    }\n",
       "</style>\n",
       "<table border=\"1\" class=\"dataframe\">\n",
       "  <thead>\n",
       "    <tr style=\"text-align: right;\">\n",
       "      <th></th>\n",
       "      <th>CW</th>\n",
       "      <th>orders</th>\n",
       "      <th>orders_per_shift</th>\n",
       "    </tr>\n",
       "  </thead>\n",
       "  <tbody>\n",
       "    <tr>\n",
       "      <td>0</td>\n",
       "      <td>105</td>\n",
       "      <td>10.6667</td>\n",
       "      <td>5.3333</td>\n",
       "    </tr>\n",
       "    <tr>\n",
       "      <td>1</td>\n",
       "      <td>106</td>\n",
       "      <td>21.3333</td>\n",
       "      <td>10.6667</td>\n",
       "    </tr>\n",
       "    <tr>\n",
       "      <td>2</td>\n",
       "      <td>107</td>\n",
       "      <td>32.0000</td>\n",
       "      <td>16.0000</td>\n",
       "    </tr>\n",
       "    <tr>\n",
       "      <td>3</td>\n",
       "      <td>108</td>\n",
       "      <td>42.6667</td>\n",
       "      <td>21.3333</td>\n",
       "    </tr>\n",
       "    <tr>\n",
       "      <td>4</td>\n",
       "      <td>109</td>\n",
       "      <td>53.3333</td>\n",
       "      <td>26.6667</td>\n",
       "    </tr>\n",
       "    <tr>\n",
       "      <td>...</td>\n",
       "      <td>...</td>\n",
       "      <td>...</td>\n",
       "      <td>...</td>\n",
       "    </tr>\n",
       "    <tr>\n",
       "      <td>151</td>\n",
       "      <td>256</td>\n",
       "      <td>2722.0000</td>\n",
       "      <td>1361.0000</td>\n",
       "    </tr>\n",
       "    <tr>\n",
       "      <td>152</td>\n",
       "      <td>257</td>\n",
       "      <td>2747.3333</td>\n",
       "      <td>1373.6667</td>\n",
       "    </tr>\n",
       "    <tr>\n",
       "      <td>153</td>\n",
       "      <td>258</td>\n",
       "      <td>2772.6667</td>\n",
       "      <td>1386.3333</td>\n",
       "    </tr>\n",
       "    <tr>\n",
       "      <td>154</td>\n",
       "      <td>259</td>\n",
       "      <td>2798.6667</td>\n",
       "      <td>1399.3333</td>\n",
       "    </tr>\n",
       "    <tr>\n",
       "      <td>155</td>\n",
       "      <td>260</td>\n",
       "      <td>2824.0000</td>\n",
       "      <td>1412.0000</td>\n",
       "    </tr>\n",
       "  </tbody>\n",
       "</table>\n",
       "<p>156 rows × 3 columns</p>\n",
       "</div>"
      ],
      "text/plain": [
       "      CW    orders  orders_per_shift\n",
       "0    105   10.6667            5.3333\n",
       "1    106   21.3333           10.6667\n",
       "2    107   32.0000           16.0000\n",
       "3    108   42.6667           21.3333\n",
       "4    109   53.3333           26.6667\n",
       "..   ...       ...               ...\n",
       "151  256 2722.0000         1361.0000\n",
       "152  257 2747.3333         1373.6667\n",
       "153  258 2772.6667         1386.3333\n",
       "154  259 2798.6667         1399.3333\n",
       "155  260 2824.0000         1412.0000\n",
       "\n",
       "[156 rows x 3 columns]"
      ]
     },
     "execution_count": 34,
     "metadata": {},
     "output_type": "execute_result"
    }
   ],
   "source": [
    "distances_weeks = pd.read_csv('order_development.csv', sep=';')\n",
    "distances_weeks['orders'] = distances_weeks['orders']*(1/1.5)\n",
    "distances_weeks['orders_per_shift'] = distances_weeks['orders']/2\n",
    "distances_weeks"
   ]
  },
  {
   "cell_type": "markdown",
   "metadata": {},
   "source": [
    "**Define def for min distance**"
   ]
  },
  {
   "cell_type": "code",
   "execution_count": 35,
   "metadata": {},
   "outputs": [],
   "source": [
    "def min_distance(area, orders):\n",
    "    \n",
    "    if orders != 0:\n",
    "        return 2*(math.sqrt((area/orders)/(2*math.sqrt(3))))\n",
    "    else:\n",
    "        return np.nan"
   ]
  },
  {
   "cell_type": "markdown",
   "metadata": {},
   "source": [
    "**Define def for avg distance**"
   ]
  },
  {
   "cell_type": "code",
   "execution_count": 36,
   "metadata": {},
   "outputs": [],
   "source": [
    "def dist_rescale(x):\n",
    "        \n",
    "    if x.orders > 1:\n",
    "        return (x.dist_inside * x.con_inside + x.street_dist_out_avg * x.con_out)/ (x.con_inside + x.con_out)\n",
    "    else:\n",
    "        return 0\n",
    "\n",
    "\n",
    "def avg_distance(orders):\n",
    "    \n",
    "    df_lor['orders'] = (orders * df_lor['pop_share'])\n",
    "    con_gesamt = math.pow(df_lor['orders'].sum(),2)-df_lor['orders'].sum()\n",
    "    df_lor['con_inside'] = df_lor.apply(lambda x: math.pow(x.orders, 2)-x.orders, axis=1)\n",
    "    df_lor['con_out'] = (orders - df_lor['orders'])*df_lor['orders']\n",
    "    \n",
    "    df_lor['dist_inside'] = df_lor.apply(lambda x: min_distance(x.area, x.orders), axis =1)\n",
    "    \n",
    "    df_lor['street_dist_avg_rescaled'] = df_lor.apply(lambda x: dist_rescale(x), axis=1)\n",
    "     \n",
    "    avg_distance = (df_lor[df_lor.orders >= 1]['street_dist_avg_rescaled'] * df_lor[df_lor.orders >= 1]['orders']).sum()/df_lor[df_lor.orders >= 1]['orders'].sum()\n",
    "    \n",
    "    df_lor.drop(columns=['orders', 'con_inside', 'con_out', 'dist_inside', 'street_dist_avg_rescaled'])\n",
    "    \n",
    "    return avg_distance/1000"
   ]
  },
  {
   "cell_type": "code",
   "execution_count": 37,
   "metadata": {},
   "outputs": [],
   "source": [
    "distances_year['min_dist'] = distances_year.orders_per_shift.apply(lambda x: min_distance(64.72, x))\n",
    "distances_weeks['min_dist'] = distances_weeks.orders_per_shift.apply(lambda x: min_distance(64.72, x))"
   ]
  },
  {
   "cell_type": "code",
   "execution_count": 38,
   "metadata": {},
   "outputs": [],
   "source": [
    "distances_year['avg_distance'] = distances_year.orders_per_shift.apply(lambda x: avg_distance(x))\n",
    "distances_weeks['avg_distance'] = distances_weeks.orders_per_shift.apply(lambda x: avg_distance(x))"
   ]
  },
  {
   "cell_type": "code",
   "execution_count": 39,
   "metadata": {},
   "outputs": [
    {
     "data": {
      "text/html": [
       "<div>\n",
       "<style scoped>\n",
       "    .dataframe tbody tr th:only-of-type {\n",
       "        vertical-align: middle;\n",
       "    }\n",
       "\n",
       "    .dataframe tbody tr th {\n",
       "        vertical-align: top;\n",
       "    }\n",
       "\n",
       "    .dataframe thead th {\n",
       "        text-align: right;\n",
       "    }\n",
       "</style>\n",
       "<table border=\"1\" class=\"dataframe\">\n",
       "  <thead>\n",
       "    <tr style=\"text-align: right;\">\n",
       "      <th></th>\n",
       "      <th>year</th>\n",
       "      <th>orders</th>\n",
       "      <th>orders_per_shift</th>\n",
       "      <th>min_dist</th>\n",
       "      <th>avg_distance</th>\n",
       "    </tr>\n",
       "  </thead>\n",
       "  <tbody>\n",
       "    <tr>\n",
       "      <td>0</td>\n",
       "      <td>2021</td>\n",
       "      <td>221.3333</td>\n",
       "      <td>110.6667</td>\n",
       "      <td>0.8218</td>\n",
       "      <td>4.1778</td>\n",
       "    </tr>\n",
       "    <tr>\n",
       "      <td>1</td>\n",
       "      <td>2022</td>\n",
       "      <td>741.3333</td>\n",
       "      <td>370.6667</td>\n",
       "      <td>0.4490</td>\n",
       "      <td>4.2415</td>\n",
       "    </tr>\n",
       "    <tr>\n",
       "      <td>2</td>\n",
       "      <td>2023</td>\n",
       "      <td>1468.8889</td>\n",
       "      <td>734.4444</td>\n",
       "      <td>0.3190</td>\n",
       "      <td>4.2433</td>\n",
       "    </tr>\n",
       "  </tbody>\n",
       "</table>\n",
       "</div>"
      ],
      "text/plain": [
       "   year    orders  orders_per_shift  min_dist  avg_distance\n",
       "0  2021  221.3333          110.6667    0.8218        4.1778\n",
       "1  2022  741.3333          370.6667    0.4490        4.2415\n",
       "2  2023 1468.8889          734.4444    0.3190        4.2433"
      ]
     },
     "execution_count": 39,
     "metadata": {},
     "output_type": "execute_result"
    }
   ],
   "source": [
    "distances_year"
   ]
  },
  {
   "cell_type": "code",
   "execution_count": 40,
   "metadata": {},
   "outputs": [
    {
     "data": {
      "text/html": [
       "<div>\n",
       "<style scoped>\n",
       "    .dataframe tbody tr th:only-of-type {\n",
       "        vertical-align: middle;\n",
       "    }\n",
       "\n",
       "    .dataframe tbody tr th {\n",
       "        vertical-align: top;\n",
       "    }\n",
       "\n",
       "    .dataframe thead th {\n",
       "        text-align: right;\n",
       "    }\n",
       "</style>\n",
       "<table border=\"1\" class=\"dataframe\">\n",
       "  <thead>\n",
       "    <tr style=\"text-align: right;\">\n",
       "      <th></th>\n",
       "      <th>CW</th>\n",
       "      <th>orders</th>\n",
       "      <th>orders_per_shift</th>\n",
       "      <th>min_dist</th>\n",
       "      <th>avg_distance</th>\n",
       "    </tr>\n",
       "  </thead>\n",
       "  <tbody>\n",
       "    <tr>\n",
       "      <td>0</td>\n",
       "      <td>105</td>\n",
       "      <td>10.6667</td>\n",
       "      <td>5.3333</td>\n",
       "      <td>3.7433</td>\n",
       "      <td>nan</td>\n",
       "    </tr>\n",
       "    <tr>\n",
       "      <td>1</td>\n",
       "      <td>106</td>\n",
       "      <td>21.3333</td>\n",
       "      <td>10.6667</td>\n",
       "      <td>2.6469</td>\n",
       "      <td>nan</td>\n",
       "    </tr>\n",
       "    <tr>\n",
       "      <td>2</td>\n",
       "      <td>107</td>\n",
       "      <td>32.0000</td>\n",
       "      <td>16.0000</td>\n",
       "      <td>2.1612</td>\n",
       "      <td>nan</td>\n",
       "    </tr>\n",
       "  </tbody>\n",
       "</table>\n",
       "</div>"
      ],
      "text/plain": [
       "    CW  orders  orders_per_shift  min_dist  avg_distance\n",
       "0  105 10.6667            5.3333    3.7433           nan\n",
       "1  106 21.3333           10.6667    2.6469           nan\n",
       "2  107 32.0000           16.0000    2.1612           nan"
      ]
     },
     "execution_count": 40,
     "metadata": {},
     "output_type": "execute_result"
    }
   ],
   "source": [
    "distances_weeks.head(3)"
   ]
  },
  {
   "cell_type": "code",
   "execution_count": 41,
   "metadata": {},
   "outputs": [],
   "source": [
    "distances_year['distance'] = 0.95 * distances_year['min_dist'] + 0.05 * distances_year['avg_distance']\n",
    "distances_weeks['distance'] = 0.95 * distances_weeks['min_dist'] + 0.05 * distances_weeks['avg_distance']"
   ]
  },
  {
   "cell_type": "code",
   "execution_count": 42,
   "metadata": {},
   "outputs": [],
   "source": [
    "distances_year.to_csv('distances_year.csv', sep=';', decimal=',')"
   ]
  },
  {
   "cell_type": "code",
   "execution_count": 43,
   "metadata": {},
   "outputs": [],
   "source": [
    "distances_weeks.to_csv('distances_weeks.csv', sep=';', decimal=',')"
   ]
  },
  {
   "cell_type": "code",
   "execution_count": 44,
   "metadata": {},
   "outputs": [
    {
     "data": {
      "text/html": [
       "<div>\n",
       "<style scoped>\n",
       "    .dataframe tbody tr th:only-of-type {\n",
       "        vertical-align: middle;\n",
       "    }\n",
       "\n",
       "    .dataframe tbody tr th {\n",
       "        vertical-align: top;\n",
       "    }\n",
       "\n",
       "    .dataframe thead th {\n",
       "        text-align: right;\n",
       "    }\n",
       "</style>\n",
       "<table border=\"1\" class=\"dataframe\">\n",
       "  <thead>\n",
       "    <tr style=\"text-align: right;\">\n",
       "      <th></th>\n",
       "      <th>year</th>\n",
       "      <th>orders</th>\n",
       "      <th>orders_per_shift</th>\n",
       "      <th>min_dist</th>\n",
       "      <th>avg_distance</th>\n",
       "      <th>distance</th>\n",
       "    </tr>\n",
       "  </thead>\n",
       "  <tbody>\n",
       "    <tr>\n",
       "      <td>0</td>\n",
       "      <td>2021</td>\n",
       "      <td>221.3333</td>\n",
       "      <td>110.6667</td>\n",
       "      <td>0.8218</td>\n",
       "      <td>4.1778</td>\n",
       "      <td>0.9896</td>\n",
       "    </tr>\n",
       "    <tr>\n",
       "      <td>1</td>\n",
       "      <td>2022</td>\n",
       "      <td>741.3333</td>\n",
       "      <td>370.6667</td>\n",
       "      <td>0.4490</td>\n",
       "      <td>4.2415</td>\n",
       "      <td>0.6386</td>\n",
       "    </tr>\n",
       "    <tr>\n",
       "      <td>2</td>\n",
       "      <td>2023</td>\n",
       "      <td>1468.8889</td>\n",
       "      <td>734.4444</td>\n",
       "      <td>0.3190</td>\n",
       "      <td>4.2433</td>\n",
       "      <td>0.5152</td>\n",
       "    </tr>\n",
       "  </tbody>\n",
       "</table>\n",
       "</div>"
      ],
      "text/plain": [
       "   year    orders  orders_per_shift  min_dist  avg_distance  distance\n",
       "0  2021  221.3333          110.6667    0.8218        4.1778    0.9896\n",
       "1  2022  741.3333          370.6667    0.4490        4.2415    0.6386\n",
       "2  2023 1468.8889          734.4444    0.3190        4.2433    0.5152"
      ]
     },
     "execution_count": 44,
     "metadata": {},
     "output_type": "execute_result"
    }
   ],
   "source": [
    "distances_year"
   ]
  },
  {
   "cell_type": "code",
   "execution_count": null,
   "metadata": {},
   "outputs": [],
   "source": []
  }
 ],
 "metadata": {
  "kernelspec": {
   "display_name": "Python 3",
   "language": "python",
   "name": "python3"
  },
  "language_info": {
   "codemirror_mode": {
    "name": "ipython",
    "version": 3
   },
   "file_extension": ".py",
   "mimetype": "text/x-python",
   "name": "python",
   "nbconvert_exporter": "python",
   "pygments_lexer": "ipython3",
   "version": "3.7.4"
  }
 },
 "nbformat": 4,
 "nbformat_minor": 4
}
