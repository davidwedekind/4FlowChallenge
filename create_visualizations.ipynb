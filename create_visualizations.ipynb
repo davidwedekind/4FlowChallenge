{
 "cells": [
  {
   "cell_type": "code",
   "execution_count": 18,
   "metadata": {},
   "outputs": [],
   "source": [
    "import pandas as pd\n",
    "import geopandas as gpd\n",
    "import geojson\n",
    "import json"
   ]
  },
  {
   "cell_type": "markdown",
   "metadata": {},
   "source": [
    "**Read-In LOR shapes Charlottenburg-Wilmersdorf**"
   ]
  },
  {
   "cell_type": "code",
   "execution_count": 19,
   "metadata": {},
   "outputs": [],
   "source": [
    "df_lor = pd.DataFrame(gpd.read_file('lor_cw.geojson'))"
   ]
  },
  {
   "cell_type": "markdown",
   "metadata": {},
   "source": [
    "**Read-In LOR structural data Charlottenburg Wilmersdorf**"
   ]
  },
  {
   "cell_type": "code",
   "execution_count": 20,
   "metadata": {},
   "outputs": [],
   "source": [
    "df_lor_data = pd.read_csv('EWR201812E_Matrix.csv', sep=';', dtype={'RAUMID': str})"
   ]
  },
  {
   "cell_type": "markdown",
   "metadata": {},
   "source": [
    "**Merge CH shapes with CH structural data**"
   ]
  },
  {
   "cell_type": "code",
   "execution_count": 21,
   "metadata": {},
   "outputs": [],
   "source": [
    "df_lor = df_lor.merge(df_lor_data[['RAUMID','E_E']], left_on='spatial_name', right_on='RAUMID')"
   ]
  },
  {
   "cell_type": "markdown",
   "metadata": {},
   "source": [
    "**Select, order and rename columns**"
   ]
  },
  {
   "cell_type": "code",
   "execution_count": 22,
   "metadata": {},
   "outputs": [],
   "source": [
    "df_lor = df_lor[['spatial_name','spatial_alias', 'SHAPE_AREA', 'E_E', 'geometry']]"
   ]
  },
  {
   "cell_type": "code",
   "execution_count": 23,
   "metadata": {},
   "outputs": [],
   "source": [
    "df_lor.rename(columns={\"spatial_name\": \"neighbourhood_id\", \n",
    "                       \"spatial_alias\": \"neighbourhood_name\", \n",
    "                       \"SHAPE_AREA\": \"area\",\n",
    "                       \"E_E\": \"pop\"\n",
    "                      }, inplace=True)"
   ]
  },
  {
   "cell_type": "code",
   "execution_count": 24,
   "metadata": {},
   "outputs": [
    {
     "data": {
      "text/html": [
       "<div>\n",
       "<style scoped>\n",
       "    .dataframe tbody tr th:only-of-type {\n",
       "        vertical-align: middle;\n",
       "    }\n",
       "\n",
       "    .dataframe tbody tr th {\n",
       "        vertical-align: top;\n",
       "    }\n",
       "\n",
       "    .dataframe thead th {\n",
       "        text-align: right;\n",
       "    }\n",
       "</style>\n",
       "<table border=\"1\" class=\"dataframe\">\n",
       "  <thead>\n",
       "    <tr style=\"text-align: right;\">\n",
       "      <th></th>\n",
       "      <th>neighbourhood_id</th>\n",
       "      <th>neighbourhood_name</th>\n",
       "      <th>area</th>\n",
       "      <th>pop</th>\n",
       "      <th>geometry</th>\n",
       "    </tr>\n",
       "  </thead>\n",
       "  <tbody>\n",
       "    <tr>\n",
       "      <td>0</td>\n",
       "      <td>04010101</td>\n",
       "      <td>Jungfernheide</td>\n",
       "      <td>3.066536e+06</td>\n",
       "      <td>10785</td>\n",
       "      <td>POLYGON ((13.27033 52.54935, 13.27033 52.54922...</td>\n",
       "    </tr>\n",
       "    <tr>\n",
       "      <td>1</td>\n",
       "      <td>04010102</td>\n",
       "      <td>Plötzensee</td>\n",
       "      <td>2.167532e+06</td>\n",
       "      <td>812</td>\n",
       "      <td>POLYGON ((13.29729 52.54295, 13.29808 52.54279...</td>\n",
       "    </tr>\n",
       "    <tr>\n",
       "      <td>2</td>\n",
       "      <td>04010103</td>\n",
       "      <td>Paul-Hertz-Siedlung</td>\n",
       "      <td>5.558701e+05</td>\n",
       "      <td>7881</td>\n",
       "      <td>POLYGON ((13.29423 52.53273, 13.29481 52.53287...</td>\n",
       "    </tr>\n",
       "  </tbody>\n",
       "</table>\n",
       "</div>"
      ],
      "text/plain": [
       "  neighbourhood_id   neighbourhood_name          area    pop  \\\n",
       "0         04010101        Jungfernheide  3.066536e+06  10785   \n",
       "1         04010102           Plötzensee  2.167532e+06    812   \n",
       "2         04010103  Paul-Hertz-Siedlung  5.558701e+05   7881   \n",
       "\n",
       "                                            geometry  \n",
       "0  POLYGON ((13.27033 52.54935, 13.27033 52.54922...  \n",
       "1  POLYGON ((13.29729 52.54295, 13.29808 52.54279...  \n",
       "2  POLYGON ((13.29423 52.53273, 13.29481 52.53287...  "
      ]
     },
     "execution_count": 24,
     "metadata": {},
     "output_type": "execute_result"
    }
   ],
   "source": [
    "df_lor.head(3)"
   ]
  },
  {
   "cell_type": "markdown",
   "metadata": {},
   "source": [
    "**Calculate KPI**"
   ]
  },
  {
   "cell_type": "code",
   "execution_count": 25,
   "metadata": {},
   "outputs": [],
   "source": [
    "df_lor['area'] = df_lor['area']/1000000"
   ]
  },
  {
   "cell_type": "code",
   "execution_count": 26,
   "metadata": {},
   "outputs": [],
   "source": [
    "df_lor['pop_den'] = df_lor['pop']/ (df_lor['area'])"
   ]
  },
  {
   "cell_type": "code",
   "execution_count": 27,
   "metadata": {},
   "outputs": [],
   "source": [
    "df_lor['pop_share'] = df_lor['pop'] / df_lor['pop'].sum()"
   ]
  },
  {
   "cell_type": "code",
   "execution_count": 28,
   "metadata": {},
   "outputs": [
    {
     "data": {
      "text/html": [
       "<div>\n",
       "<style scoped>\n",
       "    .dataframe tbody tr th:only-of-type {\n",
       "        vertical-align: middle;\n",
       "    }\n",
       "\n",
       "    .dataframe tbody tr th {\n",
       "        vertical-align: top;\n",
       "    }\n",
       "\n",
       "    .dataframe thead th {\n",
       "        text-align: right;\n",
       "    }\n",
       "</style>\n",
       "<table border=\"1\" class=\"dataframe\">\n",
       "  <thead>\n",
       "    <tr style=\"text-align: right;\">\n",
       "      <th></th>\n",
       "      <th>neighbourhood_id</th>\n",
       "      <th>neighbourhood_name</th>\n",
       "      <th>area</th>\n",
       "      <th>pop</th>\n",
       "      <th>geometry</th>\n",
       "      <th>pop_den</th>\n",
       "      <th>pop_share</th>\n",
       "    </tr>\n",
       "  </thead>\n",
       "  <tbody>\n",
       "    <tr>\n",
       "      <td>0</td>\n",
       "      <td>04010101</td>\n",
       "      <td>Jungfernheide</td>\n",
       "      <td>3.066536</td>\n",
       "      <td>10785</td>\n",
       "      <td>POLYGON ((13.27033 52.54935, 13.27033 52.54922...</td>\n",
       "      <td>3516.997681</td>\n",
       "      <td>0.031597</td>\n",
       "    </tr>\n",
       "    <tr>\n",
       "      <td>1</td>\n",
       "      <td>04010102</td>\n",
       "      <td>Plötzensee</td>\n",
       "      <td>2.167532</td>\n",
       "      <td>812</td>\n",
       "      <td>POLYGON ((13.29729 52.54295, 13.29808 52.54279...</td>\n",
       "      <td>374.619593</td>\n",
       "      <td>0.002379</td>\n",
       "    </tr>\n",
       "    <tr>\n",
       "      <td>2</td>\n",
       "      <td>04010103</td>\n",
       "      <td>Paul-Hertz-Siedlung</td>\n",
       "      <td>0.555870</td>\n",
       "      <td>7881</td>\n",
       "      <td>POLYGON ((13.29423 52.53273, 13.29481 52.53287...</td>\n",
       "      <td>14177.773004</td>\n",
       "      <td>0.023089</td>\n",
       "    </tr>\n",
       "  </tbody>\n",
       "</table>\n",
       "</div>"
      ],
      "text/plain": [
       "  neighbourhood_id   neighbourhood_name      area    pop  \\\n",
       "0         04010101        Jungfernheide  3.066536  10785   \n",
       "1         04010102           Plötzensee  2.167532    812   \n",
       "2         04010103  Paul-Hertz-Siedlung  0.555870   7881   \n",
       "\n",
       "                                            geometry       pop_den  pop_share  \n",
       "0  POLYGON ((13.27033 52.54935, 13.27033 52.54922...   3516.997681   0.031597  \n",
       "1  POLYGON ((13.29729 52.54295, 13.29808 52.54279...    374.619593   0.002379  \n",
       "2  POLYGON ((13.29423 52.53273, 13.29481 52.53287...  14177.773004   0.023089  "
      ]
     },
     "execution_count": 28,
     "metadata": {},
     "output_type": "execute_result"
    }
   ],
   "source": [
    "df_lor.head(3)"
   ]
  },
  {
   "cell_type": "markdown",
   "metadata": {},
   "source": [
    "**reduce to overlaps**"
   ]
  },
  {
   "cell_type": "code",
   "execution_count": 29,
   "metadata": {},
   "outputs": [],
   "source": [
    "overlaps = ['04030416', \n",
    "            '04030417']\n",
    "\n",
    "df_lor = df_lor[df_lor['neighbourhood_id'].isin(overlaps)] "
   ]
  },
  {
   "cell_type": "markdown",
   "metadata": {},
   "source": [
    "**Export to geojson**"
   ]
  },
  {
   "cell_type": "code",
   "execution_count": 30,
   "metadata": {},
   "outputs": [
    {
     "data": {
      "text/html": [
       "<div>\n",
       "<style scoped>\n",
       "    .dataframe tbody tr th:only-of-type {\n",
       "        vertical-align: middle;\n",
       "    }\n",
       "\n",
       "    .dataframe tbody tr th {\n",
       "        vertical-align: top;\n",
       "    }\n",
       "\n",
       "    .dataframe thead th {\n",
       "        text-align: right;\n",
       "    }\n",
       "</style>\n",
       "<table border=\"1\" class=\"dataframe\">\n",
       "  <thead>\n",
       "    <tr style=\"text-align: right;\">\n",
       "      <th></th>\n",
       "      <th>neighbourhood_id</th>\n",
       "      <th>neighbourhood_name</th>\n",
       "      <th>area</th>\n",
       "      <th>pop</th>\n",
       "      <th>geometry</th>\n",
       "      <th>pop_den</th>\n",
       "      <th>pop_share</th>\n",
       "      <th>geojson</th>\n",
       "    </tr>\n",
       "  </thead>\n",
       "  <tbody>\n",
       "    <tr>\n",
       "      <td>15</td>\n",
       "      <td>04030416</td>\n",
       "      <td>Klausenerplatz</td>\n",
       "      <td>0.478188</td>\n",
       "      <td>10652</td>\n",
       "      <td>POLYGON ((13.28362 52.51843, 13.28360 52.51839...</td>\n",
       "      <td>22275.755905</td>\n",
       "      <td>0.031208</td>\n",
       "      <td>{'type': 'Polygon', 'coordinates': [[[13.28361...</td>\n",
       "    </tr>\n",
       "    <tr>\n",
       "      <td>16</td>\n",
       "      <td>04030417</td>\n",
       "      <td>Schloßstraße</td>\n",
       "      <td>0.562503</td>\n",
       "      <td>10976</td>\n",
       "      <td>POLYGON ((13.28476 52.50996, 13.28538 52.51000...</td>\n",
       "      <td>19512.788265</td>\n",
       "      <td>0.032157</td>\n",
       "      <td>{'type': 'Polygon', 'coordinates': [[[13.28476...</td>\n",
       "    </tr>\n",
       "  </tbody>\n",
       "</table>\n",
       "</div>"
      ],
      "text/plain": [
       "   neighbourhood_id neighbourhood_name      area    pop  \\\n",
       "15         04030416     Klausenerplatz  0.478188  10652   \n",
       "16         04030417       Schloßstraße  0.562503  10976   \n",
       "\n",
       "                                             geometry       pop_den  \\\n",
       "15  POLYGON ((13.28362 52.51843, 13.28360 52.51839...  22275.755905   \n",
       "16  POLYGON ((13.28476 52.50996, 13.28538 52.51000...  19512.788265   \n",
       "\n",
       "    pop_share                                            geojson  \n",
       "15   0.031208  {'type': 'Polygon', 'coordinates': [[[13.28361...  \n",
       "16   0.032157  {'type': 'Polygon', 'coordinates': [[[13.28476...  "
      ]
     },
     "execution_count": 30,
     "metadata": {},
     "output_type": "execute_result"
    }
   ],
   "source": [
    "def to_geojson(geometry):\n",
    "    \n",
    "    points = str(geometry).replace('(','').replace(')','').replace('POLYGON ','').split(', ')\n",
    "    \n",
    "    coordinates = list()\n",
    "    \n",
    "    for string in points:\n",
    "        \n",
    "        lat_lon = string.split(' ')\n",
    "        lat_lon[0] = float(lat_lon[0])\n",
    "        lat_lon[1] = float(lat_lon[1])\n",
    "        \n",
    "        coordinates.append(lat_lon)\n",
    "        \n",
    "    geojson= list([coordinates])\n",
    "    return {\"type\": \"Polygon\", \"coordinates\": geojson}\n",
    "\n",
    "df_lor['geojson'] = df_lor.geometry.apply(lambda x: to_geojson(x))\n",
    "df_lor.head(3)"
   ]
  },
  {
   "cell_type": "code",
   "execution_count": 31,
   "metadata": {},
   "outputs": [],
   "source": [
    "def create_feature(x):\n",
    "    \n",
    "    feat = geojson.Feature(geometry=x.geojson,\n",
    "                          properties={'id':x['neighbourhood_id'],\n",
    "                                      'name':x['neighbourhood_name'],\n",
    "                                      'area':x['area'],\n",
    "                                      'pop':x['pop'],\n",
    "                                      'pop_den':x['pop_den'],\n",
    "                                      'pop_share':x['pop_share']})\n",
    "    return feat\n",
    "\n",
    "features = []\n",
    "features = df_lor.apply(lambda row: create_feature(row), axis=1).tolist()"
   ]
  },
  {
   "cell_type": "code",
   "execution_count": 32,
   "metadata": {},
   "outputs": [],
   "source": [
    "feature_collection = geojson.FeatureCollection(features)"
   ]
  },
  {
   "cell_type": "code",
   "execution_count": 33,
   "metadata": {},
   "outputs": [
    {
     "data": {
      "text/plain": [
       "{\"features\": [{\"geometry\": {\"coordinates\": [[[13.283618, 52.51843], [13.283602, 52.518387], [13.283851, 52.517827], [13.284018, 52.517457], [13.284096, 52.517282], [13.284175, 52.517119], [13.284287, 52.516934], [13.284406, 52.516777], [13.284197, 52.516691], [13.284357, 52.516496], [13.284537, 52.516263], [13.284668, 52.516043], [13.28478, 52.51582], [13.284887, 52.515538], [13.285, 52.515258], [13.285105, 52.514967], [13.285197, 52.514704], [13.285307, 52.514377], [13.285386, 52.514124], [13.285471, 52.513782], [13.285555, 52.513371], [13.285598, 52.512997], [13.28564, 52.512993], [13.286406, 52.513045], [13.28697, 52.513095], [13.28805, 52.513162], [13.28862, 52.513213], [13.288704, 52.513175], [13.290995, 52.513315], [13.291269, 52.513334], [13.294284, 52.513521], [13.294621, 52.513545], [13.294701, 52.513551], [13.296504, 52.513681], [13.296478, 52.513846], [13.296195, 52.515569], [13.296168, 52.515755], [13.296002, 52.516756], [13.295972, 52.516936], [13.295886, 52.517519], [13.295849, 52.51753], [13.295715, 52.517524], [13.295702, 52.517595], [13.295675, 52.517735], [13.295465, 52.519215], [13.292542, 52.519041], [13.292363, 52.519028], [13.291901, 52.518994], [13.290874, 52.518928], [13.290194, 52.518889], [13.28982, 52.51887], [13.287141, 52.518706], [13.286476, 52.518668], [13.28512, 52.518591], [13.285026, 52.518522], [13.284696, 52.518503], [13.284701, 52.518488], [13.283618, 52.51843]]], \"type\": \"Polygon\"}, \"properties\": {\"area\": 0.478188037498812, \"id\": \"04030416\", \"name\": \"Klausenerplatz\", \"pop\": 10652, \"pop_den\": 22275.75590496963, \"pop_share\": 0.03120761029745669}, \"type\": \"Feature\"}, {\"geometry\": {\"coordinates\": [[[13.284761, 52.509957], [13.285382, 52.509999], [13.285682, 52.510022], [13.286058, 52.510045], [13.286539, 52.510077], [13.28896, 52.510226], [13.289604, 52.510262], [13.290975, 52.510352], [13.291748, 52.5104], [13.295386, 52.510626], [13.295945, 52.51066], [13.296876, 52.510717], [13.297548, 52.510763], [13.297974, 52.510791], [13.298105, 52.5108], [13.299528, 52.510897], [13.300004, 52.510928], [13.301336, 52.511021], [13.301835, 52.511052], [13.301763, 52.511503], [13.301575, 52.512623], [13.301535, 52.512888], [13.301449, 52.513368], [13.301421, 52.513541], [13.301123, 52.515334], [13.3011, 52.515495], [13.300837, 52.51704], [13.300809, 52.517205], [13.300772, 52.517413], [13.300772, 52.517572], [13.300504, 52.518044], [13.300061, 52.518661], [13.299974, 52.518863], [13.29991, 52.519216], [13.300026, 52.519265], [13.299318, 52.519332], [13.298417, 52.519276], [13.297972, 52.519321], [13.296862, 52.519247], [13.296847, 52.519301], [13.296502, 52.519279], [13.295465, 52.519215], [13.295675, 52.517735], [13.295702, 52.517595], [13.295715, 52.517524], [13.295849, 52.51753], [13.295886, 52.517519], [13.295972, 52.516936], [13.296002, 52.516756], [13.296168, 52.515755], [13.296195, 52.515569], [13.296478, 52.513846], [13.296504, 52.513681], [13.294701, 52.513551], [13.294621, 52.513545], [13.294284, 52.513521], [13.291269, 52.513334], [13.290995, 52.513315], [13.288704, 52.513175], [13.28862, 52.513213], [13.28805, 52.513162], [13.28697, 52.513095], [13.286406, 52.513045], [13.28564, 52.512993], [13.285598, 52.512997], [13.285628, 52.51281], [13.285605, 52.51279], [13.285614, 52.512532], [13.285606, 52.512254], [13.285595, 52.512044], [13.285568, 52.511811], [13.285536, 52.511614], [13.285499, 52.511402], [13.285425, 52.511172], [13.285323, 52.510947], [13.285182, 52.510683], [13.285056, 52.510461], [13.285065, 52.51044], [13.284761, 52.509957]]], \"type\": \"Polygon\"}, \"properties\": {\"area\": 0.5625029007065221, \"id\": \"04030417\", \"name\": \"Schlo\\u00dfstra\\u00dfe\", \"pop\": 10976, \"pop_den\": 19512.788265116116, \"pop_share\": 0.03215684666024077}, \"type\": \"Feature\"}], \"type\": \"FeatureCollection\"}"
      ]
     },
     "execution_count": 33,
     "metadata": {},
     "output_type": "execute_result"
    }
   ],
   "source": [
    "feature_collection"
   ]
  },
  {
   "cell_type": "code",
   "execution_count": 34,
   "metadata": {},
   "outputs": [],
   "source": [
    "with open('overlaps3.geojson', 'w', encoding='utf-8') as f:\n",
    "    json.dump(feature_collection, f, ensure_ascii=False)"
   ]
  },
  {
   "cell_type": "code",
   "execution_count": null,
   "metadata": {},
   "outputs": [],
   "source": []
  },
  {
   "cell_type": "code",
   "execution_count": null,
   "metadata": {},
   "outputs": [],
   "source": []
  }
 ],
 "metadata": {
  "kernelspec": {
   "display_name": "Python 3",
   "language": "python",
   "name": "python3"
  },
  "language_info": {
   "codemirror_mode": {
    "name": "ipython",
    "version": 3
   },
   "file_extension": ".py",
   "mimetype": "text/x-python",
   "name": "python",
   "nbconvert_exporter": "python",
   "pygments_lexer": "ipython3",
   "version": "3.7.4"
  }
 },
 "nbformat": 4,
 "nbformat_minor": 4
}
