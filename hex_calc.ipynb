{
 "cells": [
  {
   "cell_type": "code",
   "execution_count": 1,
   "metadata": {},
   "outputs": [],
   "source": [
    "from h3 import h3\n",
    "import pandas as pd\n",
    "import shapely\n",
    "import geojson\n",
    "import geopandas as gpd\n",
    "import math\n",
    "from pyproj import Geod\n",
    "import matplotlib.pyplot as plt"
   ]
  },
  {
   "cell_type": "code",
   "execution_count": 2,
   "metadata": {},
   "outputs": [],
   "source": [
    "pd.options.display.float_format = '{:.4f}'.format"
   ]
  },
  {
   "cell_type": "markdown",
   "metadata": {},
   "source": [
    "# Part 1: Prepare Avg distance calculation"
   ]
  },
  {
   "cell_type": "markdown",
   "metadata": {},
   "source": [
    "## Prepare Data"
   ]
  },
  {
   "cell_type": "markdown",
   "metadata": {},
   "source": [
    "**Read-In LOR shapes Charlottenburg-Wilmersdorf**"
   ]
  },
  {
   "cell_type": "code",
   "execution_count": 3,
   "metadata": {},
   "outputs": [],
   "source": [
    "df_lor = pd.DataFrame(gpd.read_file('lor_cw.geojson'))"
   ]
  },
  {
   "cell_type": "markdown",
   "metadata": {},
   "source": [
    "**Convert geometry column to geojson column**"
   ]
  },
  {
   "cell_type": "code",
   "execution_count": 4,
   "metadata": {},
   "outputs": [
    {
     "data": {
      "text/html": [
       "<div>\n",
       "<style scoped>\n",
       "    .dataframe tbody tr th:only-of-type {\n",
       "        vertical-align: middle;\n",
       "    }\n",
       "\n",
       "    .dataframe tbody tr th {\n",
       "        vertical-align: top;\n",
       "    }\n",
       "\n",
       "    .dataframe thead th {\n",
       "        text-align: right;\n",
       "    }\n",
       "</style>\n",
       "<table border=\"1\" class=\"dataframe\">\n",
       "  <thead>\n",
       "    <tr style=\"text-align: right;\">\n",
       "      <th></th>\n",
       "      <th>gml_id</th>\n",
       "      <th>spatial_name</th>\n",
       "      <th>spatial_alias</th>\n",
       "      <th>spatial_type</th>\n",
       "      <th>PLRNAME</th>\n",
       "      <th>BZRNAME</th>\n",
       "      <th>PGRNAME</th>\n",
       "      <th>BEZNAME</th>\n",
       "      <th>DATUM</th>\n",
       "      <th>SHAPE_AREA</th>\n",
       "      <th>geometry</th>\n",
       "      <th>geojson</th>\n",
       "    </tr>\n",
       "  </thead>\n",
       "  <tbody>\n",
       "    <tr>\n",
       "      <td>0</td>\n",
       "      <td>re_planungsraum.04010101</td>\n",
       "      <td>04010101</td>\n",
       "      <td>Jungfernheide</td>\n",
       "      <td>Polygon</td>\n",
       "      <td>Jungfernheide</td>\n",
       "      <td>Charlottenburg Nord</td>\n",
       "      <td>CW 1</td>\n",
       "      <td>Charlottenburg-Wilmersdorf</td>\n",
       "      <td>2006-06-14T00:00:00</td>\n",
       "      <td>3066535.9995</td>\n",
       "      <td>MULTIPOLYGON (((13.30145 52.54881, 13.30150 52...</td>\n",
       "      <td>{'type': 'Polygon', 'coordinates': [[[13.30145...</td>\n",
       "    </tr>\n",
       "    <tr>\n",
       "      <td>1</td>\n",
       "      <td>re_planungsraum.04020209</td>\n",
       "      <td>04020209</td>\n",
       "      <td>Eichkamp</td>\n",
       "      <td>Polygon</td>\n",
       "      <td>Eichkamp</td>\n",
       "      <td>Heerstrasse</td>\n",
       "      <td>CW 2</td>\n",
       "      <td>Charlottenburg-Wilmersdorf</td>\n",
       "      <td>2006-06-14T00:00:00</td>\n",
       "      <td>1606439.6260</td>\n",
       "      <td>MULTIPOLYGON (((13.25413 52.50521, 13.25390 52...</td>\n",
       "      <td>{'type': 'Polygon', 'coordinates': [[[13.25413...</td>\n",
       "    </tr>\n",
       "    <tr>\n",
       "      <td>2</td>\n",
       "      <td>re_planungsraum.04020310</td>\n",
       "      <td>04020310</td>\n",
       "      <td>Park Ruhwald</td>\n",
       "      <td>Polygon</td>\n",
       "      <td>Park Ruhwald</td>\n",
       "      <td>Westend</td>\n",
       "      <td>CW 2</td>\n",
       "      <td>Charlottenburg-Wilmersdorf</td>\n",
       "      <td>2006-06-14T00:00:00</td>\n",
       "      <td>2043077.3867</td>\n",
       "      <td>MULTIPOLYGON (((13.27965 52.53028, 13.27985 52...</td>\n",
       "      <td>{'type': 'Polygon', 'coordinates': [[[13.27965...</td>\n",
       "    </tr>\n",
       "  </tbody>\n",
       "</table>\n",
       "</div>"
      ],
      "text/plain": [
       "                     gml_id spatial_name  spatial_alias spatial_type  \\\n",
       "0  re_planungsraum.04010101     04010101  Jungfernheide      Polygon   \n",
       "1  re_planungsraum.04020209     04020209       Eichkamp      Polygon   \n",
       "2  re_planungsraum.04020310     04020310   Park Ruhwald      Polygon   \n",
       "\n",
       "         PLRNAME              BZRNAME PGRNAME                     BEZNAME  \\\n",
       "0  Jungfernheide  Charlottenburg Nord    CW 1  Charlottenburg-Wilmersdorf   \n",
       "1       Eichkamp          Heerstrasse    CW 2  Charlottenburg-Wilmersdorf   \n",
       "2   Park Ruhwald              Westend    CW 2  Charlottenburg-Wilmersdorf   \n",
       "\n",
       "                 DATUM   SHAPE_AREA  \\\n",
       "0  2006-06-14T00:00:00 3066535.9995   \n",
       "1  2006-06-14T00:00:00 1606439.6260   \n",
       "2  2006-06-14T00:00:00 2043077.3867   \n",
       "\n",
       "                                            geometry  \\\n",
       "0  MULTIPOLYGON (((13.30145 52.54881, 13.30150 52...   \n",
       "1  MULTIPOLYGON (((13.25413 52.50521, 13.25390 52...   \n",
       "2  MULTIPOLYGON (((13.27965 52.53028, 13.27985 52...   \n",
       "\n",
       "                                             geojson  \n",
       "0  {'type': 'Polygon', 'coordinates': [[[13.30145...  \n",
       "1  {'type': 'Polygon', 'coordinates': [[[13.25413...  \n",
       "2  {'type': 'Polygon', 'coordinates': [[[13.27965...  "
      ]
     },
     "execution_count": 4,
     "metadata": {},
     "output_type": "execute_result"
    }
   ],
   "source": [
    "def to_geojson(geometry):\n",
    "    \n",
    "    points = str(list(geometry)[0]).replace('(','').replace(')','').replace('POLYGON ','').split(', ')\n",
    "    \n",
    "    coordinates = list()\n",
    "    \n",
    "    for string in points:\n",
    "        \n",
    "        lat_lon = string.split(' ')\n",
    "        lat_lon[0] = float(lat_lon[0])\n",
    "        lat_lon[1] = float(lat_lon[1])\n",
    "        \n",
    "        coordinates.append(lat_lon)\n",
    "        \n",
    "    geojson= list([coordinates])\n",
    "    return {\"type\": \"Polygon\", \"coordinates\": geojson}\n",
    "\n",
    "df_lor['geojson'] = df_lor.geometry.apply(lambda x: to_geojson(x))\n",
    "df_lor.head(3)"
   ]
  },
  {
   "cell_type": "markdown",
   "metadata": {},
   "source": [
    "**Read-In LOR structural data Charlottenburg Wilmersdorf**"
   ]
  },
  {
   "cell_type": "code",
   "execution_count": 5,
   "metadata": {},
   "outputs": [
    {
     "data": {
      "text/html": [
       "<div>\n",
       "<style scoped>\n",
       "    .dataframe tbody tr th:only-of-type {\n",
       "        vertical-align: middle;\n",
       "    }\n",
       "\n",
       "    .dataframe tbody tr th {\n",
       "        vertical-align: top;\n",
       "    }\n",
       "\n",
       "    .dataframe thead th {\n",
       "        text-align: right;\n",
       "    }\n",
       "</style>\n",
       "<table border=\"1\" class=\"dataframe\">\n",
       "  <thead>\n",
       "    <tr style=\"text-align: right;\">\n",
       "      <th></th>\n",
       "      <th>ZEIT</th>\n",
       "      <th>RAUMID</th>\n",
       "      <th>BEZ</th>\n",
       "      <th>PGR</th>\n",
       "      <th>BZR</th>\n",
       "      <th>PLR</th>\n",
       "      <th>STADTRAUM</th>\n",
       "      <th>E_E</th>\n",
       "      <th>E_EM</th>\n",
       "      <th>E_EW</th>\n",
       "      <th>...</th>\n",
       "      <th>E_E95_110</th>\n",
       "      <th>E_EU1</th>\n",
       "      <th>E_E1U6</th>\n",
       "      <th>E_E6U15</th>\n",
       "      <th>E_E15U18</th>\n",
       "      <th>E_E18U25</th>\n",
       "      <th>E_E25U55</th>\n",
       "      <th>E_E55U65</th>\n",
       "      <th>E_E65U80</th>\n",
       "      <th>E_E80U110</th>\n",
       "    </tr>\n",
       "  </thead>\n",
       "  <tbody>\n",
       "    <tr>\n",
       "      <td>0</td>\n",
       "      <td>201812</td>\n",
       "      <td>01011101</td>\n",
       "      <td>1</td>\n",
       "      <td>1</td>\n",
       "      <td>11</td>\n",
       "      <td>1</td>\n",
       "      <td>1</td>\n",
       "      <td>3384</td>\n",
       "      <td>1751</td>\n",
       "      <td>1633</td>\n",
       "      <td>...</td>\n",
       "      <td>6</td>\n",
       "      <td>27</td>\n",
       "      <td>151</td>\n",
       "      <td>120</td>\n",
       "      <td>38</td>\n",
       "      <td>322</td>\n",
       "      <td>1616</td>\n",
       "      <td>383</td>\n",
       "      <td>542</td>\n",
       "      <td>185</td>\n",
       "    </tr>\n",
       "    <tr>\n",
       "      <td>1</td>\n",
       "      <td>201812</td>\n",
       "      <td>01011102</td>\n",
       "      <td>1</td>\n",
       "      <td>1</td>\n",
       "      <td>11</td>\n",
       "      <td>2</td>\n",
       "      <td>1</td>\n",
       "      <td>196</td>\n",
       "      <td>127</td>\n",
       "      <td>69</td>\n",
       "      <td>...</td>\n",
       "      <td>0</td>\n",
       "      <td>0</td>\n",
       "      <td>3</td>\n",
       "      <td>3</td>\n",
       "      <td>3</td>\n",
       "      <td>12</td>\n",
       "      <td>115</td>\n",
       "      <td>38</td>\n",
       "      <td>22</td>\n",
       "      <td>0</td>\n",
       "    </tr>\n",
       "    <tr>\n",
       "      <td>2</td>\n",
       "      <td>201812</td>\n",
       "      <td>01011103</td>\n",
       "      <td>1</td>\n",
       "      <td>1</td>\n",
       "      <td>11</td>\n",
       "      <td>3</td>\n",
       "      <td>1</td>\n",
       "      <td>5038</td>\n",
       "      <td>2698</td>\n",
       "      <td>2340</td>\n",
       "      <td>...</td>\n",
       "      <td>21</td>\n",
       "      <td>48</td>\n",
       "      <td>195</td>\n",
       "      <td>325</td>\n",
       "      <td>109</td>\n",
       "      <td>412</td>\n",
       "      <td>2281</td>\n",
       "      <td>742</td>\n",
       "      <td>694</td>\n",
       "      <td>232</td>\n",
       "    </tr>\n",
       "  </tbody>\n",
       "</table>\n",
       "<p>3 rows × 51 columns</p>\n",
       "</div>"
      ],
      "text/plain": [
       "     ZEIT    RAUMID  BEZ  PGR  BZR  PLR  STADTRAUM   E_E  E_EM  E_EW  ...  \\\n",
       "0  201812  01011101    1    1   11    1          1  3384  1751  1633  ...   \n",
       "1  201812  01011102    1    1   11    2          1   196   127    69  ...   \n",
       "2  201812  01011103    1    1   11    3          1  5038  2698  2340  ...   \n",
       "\n",
       "   E_E95_110  E_EU1  E_E1U6  E_E6U15  E_E15U18  E_E18U25  E_E25U55  E_E55U65  \\\n",
       "0          6     27     151      120        38       322      1616       383   \n",
       "1          0      0       3        3         3        12       115        38   \n",
       "2         21     48     195      325       109       412      2281       742   \n",
       "\n",
       "   E_E65U80  E_E80U110  \n",
       "0       542        185  \n",
       "1        22          0  \n",
       "2       694        232  \n",
       "\n",
       "[3 rows x 51 columns]"
      ]
     },
     "execution_count": 5,
     "metadata": {},
     "output_type": "execute_result"
    }
   ],
   "source": [
    "df_lor_data = pd.read_csv('EWR201812E_Matrix.csv', sep=';', dtype={'RAUMID': str})\n",
    "df_lor_data.head(3)"
   ]
  },
  {
   "cell_type": "markdown",
   "metadata": {},
   "source": [
    "**Read-In store locations**"
   ]
  },
  {
   "cell_type": "code",
   "execution_count": 6,
   "metadata": {},
   "outputs": [
    {
     "data": {
      "text/html": [
       "<div>\n",
       "<style scoped>\n",
       "    .dataframe tbody tr th:only-of-type {\n",
       "        vertical-align: middle;\n",
       "    }\n",
       "\n",
       "    .dataframe tbody tr th {\n",
       "        vertical-align: top;\n",
       "    }\n",
       "\n",
       "    .dataframe thead th {\n",
       "        text-align: right;\n",
       "    }\n",
       "</style>\n",
       "<table border=\"1\" class=\"dataframe\">\n",
       "  <thead>\n",
       "    <tr style=\"text-align: right;\">\n",
       "      <th></th>\n",
       "      <th>Filialname</th>\n",
       "      <th>Kunden pro tag</th>\n",
       "      <th>geometry</th>\n",
       "    </tr>\n",
       "  </thead>\n",
       "  <tbody>\n",
       "    <tr>\n",
       "      <td>0</td>\n",
       "      <td>Kracauerplatz</td>\n",
       "      <td>1950</td>\n",
       "      <td>POINT (13.29640 52.50189)</td>\n",
       "    </tr>\n",
       "    <tr>\n",
       "      <td>1</td>\n",
       "      <td>Kaiserin-Augusta-Allee</td>\n",
       "      <td>1000</td>\n",
       "      <td>POINT (13.31061 52.52574)</td>\n",
       "    </tr>\n",
       "    <tr>\n",
       "      <td>2</td>\n",
       "      <td>Lietzenburger Str</td>\n",
       "      <td>1450</td>\n",
       "      <td>POINT (13.32483 52.50000)</td>\n",
       "    </tr>\n",
       "  </tbody>\n",
       "</table>\n",
       "</div>"
      ],
      "text/plain": [
       "               Filialname  Kunden pro tag                   geometry\n",
       "0           Kracauerplatz            1950  POINT (13.29640 52.50189)\n",
       "1  Kaiserin-Augusta-Allee            1000  POINT (13.31061 52.52574)\n",
       "2       Lietzenburger Str            1450  POINT (13.32483 52.50000)"
      ]
     },
     "execution_count": 6,
     "metadata": {},
     "output_type": "execute_result"
    }
   ],
   "source": [
    "df_store_loc = gpd.read_file('store_locations.geojson')\n",
    "df_store_loc.head(3)"
   ]
  },
  {
   "cell_type": "markdown",
   "metadata": {},
   "source": [
    "## Merge Data"
   ]
  },
  {
   "cell_type": "markdown",
   "metadata": {},
   "source": [
    "**Merge CH shapes with CH structural data**"
   ]
  },
  {
   "cell_type": "code",
   "execution_count": 7,
   "metadata": {},
   "outputs": [],
   "source": [
    "df_lor = df_lor.merge(df_lor_data[['RAUMID','E_E']], left_on='spatial_name', right_on='RAUMID')"
   ]
  },
  {
   "cell_type": "markdown",
   "metadata": {},
   "source": [
    "**Select, order and rename columns**"
   ]
  },
  {
   "cell_type": "code",
   "execution_count": 8,
   "metadata": {},
   "outputs": [],
   "source": [
    "df_lor = df_lor[['spatial_name','spatial_alias', 'SHAPE_AREA', 'E_E', 'geometry', 'geojson']]"
   ]
  },
  {
   "cell_type": "code",
   "execution_count": 9,
   "metadata": {},
   "outputs": [],
   "source": [
    "df_lor.rename(columns={\"spatial_name\": \"neighbourhood_id\", \n",
    "                       \"spatial_alias\": \"neighbourhood_name\", \n",
    "                       \"SHAPE_AREA\": \"area\",\n",
    "                       \"E_E\": \"pop\"\n",
    "                      }, inplace=True)"
   ]
  },
  {
   "cell_type": "markdown",
   "metadata": {},
   "source": [
    "## Find hexagons of level 9 in LOR"
   ]
  },
  {
   "cell_type": "code",
   "execution_count": 10,
   "metadata": {},
   "outputs": [
    {
     "data": {
      "text/plain": [
       "0.7373276"
      ]
     },
     "execution_count": 10,
     "metadata": {},
     "output_type": "execute_result"
    }
   ],
   "source": [
    "h3.hex_area(8)"
   ]
  },
  {
   "cell_type": "markdown",
   "metadata": {},
   "source": [
    "**Find all level 9 hexagons that intersect the LORs**"
   ]
  },
  {
   "cell_type": "code",
   "execution_count": 11,
   "metadata": {},
   "outputs": [],
   "source": [
    "df_lor['hex'] = df_lor.geojson.apply(lambda x: list(h3.polyfill(x, 9)))"
   ]
  },
  {
   "cell_type": "markdown",
   "metadata": {},
   "source": [
    "**Determine number of hexagons per LOR**"
   ]
  },
  {
   "cell_type": "code",
   "execution_count": 12,
   "metadata": {},
   "outputs": [],
   "source": [
    "df_lor['hex_count'] = df_lor.hex.apply(lambda x: len(x))"
   ]
  },
  {
   "cell_type": "code",
   "execution_count": 13,
   "metadata": {},
   "outputs": [
    {
     "data": {
      "text/html": [
       "<div>\n",
       "<style scoped>\n",
       "    .dataframe tbody tr th:only-of-type {\n",
       "        vertical-align: middle;\n",
       "    }\n",
       "\n",
       "    .dataframe tbody tr th {\n",
       "        vertical-align: top;\n",
       "    }\n",
       "\n",
       "    .dataframe thead th {\n",
       "        text-align: right;\n",
       "    }\n",
       "</style>\n",
       "<table border=\"1\" class=\"dataframe\">\n",
       "  <thead>\n",
       "    <tr style=\"text-align: right;\">\n",
       "      <th></th>\n",
       "      <th>neighbourhood_id</th>\n",
       "      <th>neighbourhood_name</th>\n",
       "      <th>area</th>\n",
       "      <th>pop</th>\n",
       "      <th>geometry</th>\n",
       "      <th>geojson</th>\n",
       "      <th>hex</th>\n",
       "      <th>hex_count</th>\n",
       "    </tr>\n",
       "  </thead>\n",
       "  <tbody>\n",
       "    <tr>\n",
       "      <td>0</td>\n",
       "      <td>04010101</td>\n",
       "      <td>Jungfernheide</td>\n",
       "      <td>3066535.9995</td>\n",
       "      <td>10785</td>\n",
       "      <td>MULTIPOLYGON (((13.30145 52.54881, 13.30150 52...</td>\n",
       "      <td>{'type': 'Polygon', 'coordinates': [[[13.30145...</td>\n",
       "      <td>[8963a3d030fffff, 8963a3d0267ffff, 8963a3d037b...</td>\n",
       "      <td>62</td>\n",
       "    </tr>\n",
       "    <tr>\n",
       "      <td>1</td>\n",
       "      <td>04020209</td>\n",
       "      <td>Eichkamp</td>\n",
       "      <td>1606439.6260</td>\n",
       "      <td>3214</td>\n",
       "      <td>MULTIPOLYGON (((13.25413 52.50521, 13.25390 52...</td>\n",
       "      <td>{'type': 'Polygon', 'coordinates': [[[13.25413...</td>\n",
       "      <td>[8963a3d1307ffff, 8963a3d1313ffff, 8963a3d13c7...</td>\n",
       "      <td>33</td>\n",
       "    </tr>\n",
       "    <tr>\n",
       "      <td>2</td>\n",
       "      <td>04020310</td>\n",
       "      <td>Park Ruhwald</td>\n",
       "      <td>2043077.3867</td>\n",
       "      <td>616</td>\n",
       "      <td>MULTIPOLYGON (((13.27965 52.53028, 13.27985 52...</td>\n",
       "      <td>{'type': 'Polygon', 'coordinates': [[[13.27965...</td>\n",
       "      <td>[8963a3d1eafffff, 8963a3d1e37ffff, 8963a3d1ccf...</td>\n",
       "      <td>37</td>\n",
       "    </tr>\n",
       "  </tbody>\n",
       "</table>\n",
       "</div>"
      ],
      "text/plain": [
       "  neighbourhood_id neighbourhood_name         area    pop  \\\n",
       "0         04010101      Jungfernheide 3066535.9995  10785   \n",
       "1         04020209           Eichkamp 1606439.6260   3214   \n",
       "2         04020310       Park Ruhwald 2043077.3867    616   \n",
       "\n",
       "                                            geometry  \\\n",
       "0  MULTIPOLYGON (((13.30145 52.54881, 13.30150 52...   \n",
       "1  MULTIPOLYGON (((13.25413 52.50521, 13.25390 52...   \n",
       "2  MULTIPOLYGON (((13.27965 52.53028, 13.27985 52...   \n",
       "\n",
       "                                             geojson  \\\n",
       "0  {'type': 'Polygon', 'coordinates': [[[13.30145...   \n",
       "1  {'type': 'Polygon', 'coordinates': [[[13.25413...   \n",
       "2  {'type': 'Polygon', 'coordinates': [[[13.27965...   \n",
       "\n",
       "                                                 hex  hex_count  \n",
       "0  [8963a3d030fffff, 8963a3d0267ffff, 8963a3d037b...         62  \n",
       "1  [8963a3d1307ffff, 8963a3d1313ffff, 8963a3d13c7...         33  \n",
       "2  [8963a3d1eafffff, 8963a3d1e37ffff, 8963a3d1ccf...         37  "
      ]
     },
     "execution_count": 13,
     "metadata": {},
     "output_type": "execute_result"
    }
   ],
   "source": [
    "df_lor.head(3)"
   ]
  },
  {
   "cell_type": "markdown",
   "metadata": {},
   "source": [
    "## Calculate pre-measures"
   ]
  },
  {
   "cell_type": "markdown",
   "metadata": {},
   "source": [
    "**Calculate population density**"
   ]
  },
  {
   "cell_type": "code",
   "execution_count": 14,
   "metadata": {},
   "outputs": [],
   "source": [
    "df_lor['pop_den'] = df_lor['pop']/ (df_lor['area']/1000)"
   ]
  },
  {
   "cell_type": "markdown",
   "metadata": {},
   "source": [
    "**Calculate scale factor 'pop share' based on population distribution**"
   ]
  },
  {
   "cell_type": "code",
   "execution_count": 15,
   "metadata": {},
   "outputs": [],
   "source": [
    "df_lor['pop_sum'] = df_lor['pop'].sum()"
   ]
  },
  {
   "cell_type": "code",
   "execution_count": 16,
   "metadata": {},
   "outputs": [],
   "source": [
    "df_lor['pop_share'] = df_lor['pop'] / df_lor['pop_sum']"
   ]
  },
  {
   "cell_type": "code",
   "execution_count": 17,
   "metadata": {},
   "outputs": [
    {
     "data": {
      "text/html": [
       "<div>\n",
       "<style scoped>\n",
       "    .dataframe tbody tr th:only-of-type {\n",
       "        vertical-align: middle;\n",
       "    }\n",
       "\n",
       "    .dataframe tbody tr th {\n",
       "        vertical-align: top;\n",
       "    }\n",
       "\n",
       "    .dataframe thead th {\n",
       "        text-align: right;\n",
       "    }\n",
       "</style>\n",
       "<table border=\"1\" class=\"dataframe\">\n",
       "  <thead>\n",
       "    <tr style=\"text-align: right;\">\n",
       "      <th></th>\n",
       "      <th>neighbourhood_id</th>\n",
       "      <th>neighbourhood_name</th>\n",
       "      <th>area</th>\n",
       "      <th>pop</th>\n",
       "      <th>geometry</th>\n",
       "      <th>geojson</th>\n",
       "      <th>hex</th>\n",
       "      <th>hex_count</th>\n",
       "      <th>pop_den</th>\n",
       "      <th>pop_sum</th>\n",
       "      <th>pop_share</th>\n",
       "    </tr>\n",
       "  </thead>\n",
       "  <tbody>\n",
       "    <tr>\n",
       "      <td>0</td>\n",
       "      <td>04010101</td>\n",
       "      <td>Jungfernheide</td>\n",
       "      <td>3066535.9995</td>\n",
       "      <td>10785</td>\n",
       "      <td>MULTIPOLYGON (((13.30145 52.54881, 13.30150 52...</td>\n",
       "      <td>{'type': 'Polygon', 'coordinates': [[[13.30145...</td>\n",
       "      <td>[8963a3d030fffff, 8963a3d0267ffff, 8963a3d037b...</td>\n",
       "      <td>62</td>\n",
       "      <td>3.5170</td>\n",
       "      <td>322774</td>\n",
       "      <td>0.0334</td>\n",
       "    </tr>\n",
       "    <tr>\n",
       "      <td>1</td>\n",
       "      <td>04020209</td>\n",
       "      <td>Eichkamp</td>\n",
       "      <td>1606439.6260</td>\n",
       "      <td>3214</td>\n",
       "      <td>MULTIPOLYGON (((13.25413 52.50521, 13.25390 52...</td>\n",
       "      <td>{'type': 'Polygon', 'coordinates': [[[13.25413...</td>\n",
       "      <td>[8963a3d1307ffff, 8963a3d1313ffff, 8963a3d13c7...</td>\n",
       "      <td>33</td>\n",
       "      <td>2.0007</td>\n",
       "      <td>322774</td>\n",
       "      <td>0.0100</td>\n",
       "    </tr>\n",
       "    <tr>\n",
       "      <td>2</td>\n",
       "      <td>04020310</td>\n",
       "      <td>Park Ruhwald</td>\n",
       "      <td>2043077.3867</td>\n",
       "      <td>616</td>\n",
       "      <td>MULTIPOLYGON (((13.27965 52.53028, 13.27985 52...</td>\n",
       "      <td>{'type': 'Polygon', 'coordinates': [[[13.27965...</td>\n",
       "      <td>[8963a3d1eafffff, 8963a3d1e37ffff, 8963a3d1ccf...</td>\n",
       "      <td>37</td>\n",
       "      <td>0.3015</td>\n",
       "      <td>322774</td>\n",
       "      <td>0.0019</td>\n",
       "    </tr>\n",
       "  </tbody>\n",
       "</table>\n",
       "</div>"
      ],
      "text/plain": [
       "  neighbourhood_id neighbourhood_name         area    pop  \\\n",
       "0         04010101      Jungfernheide 3066535.9995  10785   \n",
       "1         04020209           Eichkamp 1606439.6260   3214   \n",
       "2         04020310       Park Ruhwald 2043077.3867    616   \n",
       "\n",
       "                                            geometry  \\\n",
       "0  MULTIPOLYGON (((13.30145 52.54881, 13.30150 52...   \n",
       "1  MULTIPOLYGON (((13.25413 52.50521, 13.25390 52...   \n",
       "2  MULTIPOLYGON (((13.27965 52.53028, 13.27985 52...   \n",
       "\n",
       "                                             geojson  \\\n",
       "0  {'type': 'Polygon', 'coordinates': [[[13.30145...   \n",
       "1  {'type': 'Polygon', 'coordinates': [[[13.25413...   \n",
       "2  {'type': 'Polygon', 'coordinates': [[[13.27965...   \n",
       "\n",
       "                                                 hex  hex_count  pop_den  \\\n",
       "0  [8963a3d030fffff, 8963a3d0267ffff, 8963a3d037b...         62   3.5170   \n",
       "1  [8963a3d1307ffff, 8963a3d1313ffff, 8963a3d13c7...         33   2.0007   \n",
       "2  [8963a3d1eafffff, 8963a3d1e37ffff, 8963a3d1ccf...         37   0.3015   \n",
       "\n",
       "   pop_sum  pop_share  \n",
       "0   322774     0.0334  \n",
       "1   322774     0.0100  \n",
       "2   322774     0.0019  "
      ]
     },
     "execution_count": 17,
     "metadata": {},
     "output_type": "execute_result"
    }
   ],
   "source": [
    "df_lor.head(3)"
   ]
  },
  {
   "cell_type": "markdown",
   "metadata": {},
   "source": [
    "## Create list based on hexagons"
   ]
  },
  {
   "cell_type": "markdown",
   "metadata": {},
   "source": [
    "**Explode list based on hex column**"
   ]
  },
  {
   "cell_type": "code",
   "execution_count": 18,
   "metadata": {},
   "outputs": [],
   "source": [
    "df_hex = df_lor.explode('hex').reset_index(drop=True)"
   ]
  },
  {
   "cell_type": "code",
   "execution_count": 19,
   "metadata": {},
   "outputs": [
    {
     "data": {
      "text/plain": [
       "1112"
      ]
     },
     "execution_count": 19,
     "metadata": {},
     "output_type": "execute_result"
    }
   ],
   "source": [
    "df_hex.neighbourhood_id.count()"
   ]
  },
  {
   "cell_type": "markdown",
   "metadata": {},
   "source": [
    "**Re-factor pop_share per hexagon based on assumption of equal pop distribution within lor**"
   ]
  },
  {
   "cell_type": "code",
   "execution_count": 20,
   "metadata": {},
   "outputs": [],
   "source": [
    "df_hex['pop_share'] = df_hex['pop_share']/ df_hex['hex_count']"
   ]
  },
  {
   "cell_type": "markdown",
   "metadata": {},
   "source": [
    "**Select and order columns**"
   ]
  },
  {
   "cell_type": "code",
   "execution_count": 21,
   "metadata": {},
   "outputs": [],
   "source": [
    "df_hex = df_hex[['hex', 'neighbourhood_id', 'neighbourhood_name', 'pop_den', 'pop_share', 'geometry']]"
   ]
  },
  {
   "cell_type": "code",
   "execution_count": 22,
   "metadata": {},
   "outputs": [
    {
     "data": {
      "text/html": [
       "<div>\n",
       "<style scoped>\n",
       "    .dataframe tbody tr th:only-of-type {\n",
       "        vertical-align: middle;\n",
       "    }\n",
       "\n",
       "    .dataframe tbody tr th {\n",
       "        vertical-align: top;\n",
       "    }\n",
       "\n",
       "    .dataframe thead th {\n",
       "        text-align: right;\n",
       "    }\n",
       "</style>\n",
       "<table border=\"1\" class=\"dataframe\">\n",
       "  <thead>\n",
       "    <tr style=\"text-align: right;\">\n",
       "      <th></th>\n",
       "      <th>hex</th>\n",
       "      <th>neighbourhood_id</th>\n",
       "      <th>neighbourhood_name</th>\n",
       "      <th>pop_den</th>\n",
       "      <th>pop_share</th>\n",
       "      <th>geometry</th>\n",
       "    </tr>\n",
       "  </thead>\n",
       "  <tbody>\n",
       "    <tr>\n",
       "      <td>0</td>\n",
       "      <td>8963a3d030fffff</td>\n",
       "      <td>04010101</td>\n",
       "      <td>Jungfernheide</td>\n",
       "      <td>3.5170</td>\n",
       "      <td>0.0005</td>\n",
       "      <td>MULTIPOLYGON (((13.30145 52.54881, 13.30150 52...</td>\n",
       "    </tr>\n",
       "    <tr>\n",
       "      <td>1</td>\n",
       "      <td>8963a3d0267ffff</td>\n",
       "      <td>04010101</td>\n",
       "      <td>Jungfernheide</td>\n",
       "      <td>3.5170</td>\n",
       "      <td>0.0005</td>\n",
       "      <td>MULTIPOLYGON (((13.30145 52.54881, 13.30150 52...</td>\n",
       "    </tr>\n",
       "    <tr>\n",
       "      <td>2</td>\n",
       "      <td>8963a3d037bffff</td>\n",
       "      <td>04010101</td>\n",
       "      <td>Jungfernheide</td>\n",
       "      <td>3.5170</td>\n",
       "      <td>0.0005</td>\n",
       "      <td>MULTIPOLYGON (((13.30145 52.54881, 13.30150 52...</td>\n",
       "    </tr>\n",
       "  </tbody>\n",
       "</table>\n",
       "</div>"
      ],
      "text/plain": [
       "               hex neighbourhood_id neighbourhood_name  pop_den  pop_share  \\\n",
       "0  8963a3d030fffff         04010101      Jungfernheide   3.5170     0.0005   \n",
       "1  8963a3d0267ffff         04010101      Jungfernheide   3.5170     0.0005   \n",
       "2  8963a3d037bffff         04010101      Jungfernheide   3.5170     0.0005   \n",
       "\n",
       "                                            geometry  \n",
       "0  MULTIPOLYGON (((13.30145 52.54881, 13.30150 52...  \n",
       "1  MULTIPOLYGON (((13.30145 52.54881, 13.30150 52...  \n",
       "2  MULTIPOLYGON (((13.30145 52.54881, 13.30150 52...  "
      ]
     },
     "execution_count": 22,
     "metadata": {},
     "output_type": "execute_result"
    }
   ],
   "source": [
    "df_hex.head(3)"
   ]
  },
  {
   "cell_type": "markdown",
   "metadata": {},
   "source": [
    "## Calculate avg distance starting from one hex to all other hex"
   ]
  },
  {
   "cell_type": "markdown",
   "metadata": {},
   "source": [
    "**Get coordinates of hex center points**"
   ]
  },
  {
   "cell_type": "code",
   "execution_count": 23,
   "metadata": {},
   "outputs": [],
   "source": [
    "def get_centroid(x):\n",
    "    \n",
    "    if pd.isna(x.hex):\n",
    "        \n",
    "        # For those which contain no hexagons (because too small), take centroid of multipolygon\n",
    "        return [x.geometry.centroid.coords[0][0],x.geometry.centroid.coords[0][1]]\n",
    "    \n",
    "    else:\n",
    "        \n",
    "        return h3.h3_to_geo(x.hex)\n",
    "\n",
    "\n",
    "df_hex[['geo_center_lon','geo_center_lat']] = pd.DataFrame(df_hex.apply(lambda x: get_centroid(x), axis=1).tolist(), index=df_hex.index)"
   ]
  },
  {
   "cell_type": "markdown",
   "metadata": {},
   "source": [
    "**Build all combinations via merge**"
   ]
  },
  {
   "cell_type": "code",
   "execution_count": 24,
   "metadata": {},
   "outputs": [
    {
     "data": {
      "text/html": [
       "<div>\n",
       "<style scoped>\n",
       "    .dataframe tbody tr th:only-of-type {\n",
       "        vertical-align: middle;\n",
       "    }\n",
       "\n",
       "    .dataframe tbody tr th {\n",
       "        vertical-align: top;\n",
       "    }\n",
       "\n",
       "    .dataframe thead th {\n",
       "        text-align: right;\n",
       "    }\n",
       "</style>\n",
       "<table border=\"1\" class=\"dataframe\">\n",
       "  <thead>\n",
       "    <tr style=\"text-align: right;\">\n",
       "      <th></th>\n",
       "      <th>hex_x</th>\n",
       "      <th>hex_y</th>\n",
       "      <th>geo_center_lat_x</th>\n",
       "      <th>geo_center_lon_x</th>\n",
       "      <th>geo_center_lat_y</th>\n",
       "      <th>geo_center_lon_y</th>\n",
       "    </tr>\n",
       "  </thead>\n",
       "  <tbody>\n",
       "    <tr>\n",
       "      <td>0</td>\n",
       "      <td>8963a3d030fffff</td>\n",
       "      <td>8963a3d030fffff</td>\n",
       "      <td>52.5466</td>\n",
       "      <td>13.2887</td>\n",
       "      <td>52.5466</td>\n",
       "      <td>13.2887</td>\n",
       "    </tr>\n",
       "    <tr>\n",
       "      <td>1</td>\n",
       "      <td>8963a3d030fffff</td>\n",
       "      <td>8963a3d0267ffff</td>\n",
       "      <td>52.5466</td>\n",
       "      <td>13.2887</td>\n",
       "      <td>52.5296</td>\n",
       "      <td>13.2864</td>\n",
       "    </tr>\n",
       "    <tr>\n",
       "      <td>2</td>\n",
       "      <td>8963a3d030fffff</td>\n",
       "      <td>8963a3d037bffff</td>\n",
       "      <td>52.5466</td>\n",
       "      <td>13.2887</td>\n",
       "      <td>52.5426</td>\n",
       "      <td>13.2843</td>\n",
       "    </tr>\n",
       "  </tbody>\n",
       "</table>\n",
       "</div>"
      ],
      "text/plain": [
       "             hex_x            hex_y  geo_center_lat_x  geo_center_lon_x  \\\n",
       "0  8963a3d030fffff  8963a3d030fffff           52.5466           13.2887   \n",
       "1  8963a3d030fffff  8963a3d0267ffff           52.5466           13.2887   \n",
       "2  8963a3d030fffff  8963a3d037bffff           52.5466           13.2887   \n",
       "\n",
       "   geo_center_lat_y  geo_center_lon_y  \n",
       "0           52.5466           13.2887  \n",
       "1           52.5296           13.2864  \n",
       "2           52.5426           13.2843  "
      ]
     },
     "execution_count": 24,
     "metadata": {},
     "output_type": "execute_result"
    }
   ],
   "source": [
    "df_hex['mg'] = 1\n",
    "df_dist = df_hex.merge(df_hex[['hex', 'geo_center_lat', 'geo_center_lon', 'mg']], on='mg')\n",
    "df_dist = df_dist[['hex_x', 'hex_y', 'geo_center_lat_x', 'geo_center_lon_x', 'geo_center_lat_y', 'geo_center_lon_y']]\n",
    "df_dist.head(3)"
   ]
  },
  {
   "cell_type": "code",
   "execution_count": 25,
   "metadata": {},
   "outputs": [],
   "source": [
    "df_dist = df_dist[df_dist.hex_x != df_dist.hex_y]"
   ]
  },
  {
   "cell_type": "markdown",
   "metadata": {},
   "source": [
    "**Calculate all distances**"
   ]
  },
  {
   "cell_type": "code",
   "execution_count": 26,
   "metadata": {},
   "outputs": [
    {
     "data": {
      "text/html": [
       "<div>\n",
       "<style scoped>\n",
       "    .dataframe tbody tr th:only-of-type {\n",
       "        vertical-align: middle;\n",
       "    }\n",
       "\n",
       "    .dataframe tbody tr th {\n",
       "        vertical-align: top;\n",
       "    }\n",
       "\n",
       "    .dataframe thead th {\n",
       "        text-align: right;\n",
       "    }\n",
       "</style>\n",
       "<table border=\"1\" class=\"dataframe\">\n",
       "  <thead>\n",
       "    <tr style=\"text-align: right;\">\n",
       "      <th></th>\n",
       "      <th>hex_x</th>\n",
       "      <th>hex_y</th>\n",
       "      <th>geo_center_lat_x</th>\n",
       "      <th>geo_center_lon_x</th>\n",
       "      <th>geo_center_lat_y</th>\n",
       "      <th>geo_center_lon_y</th>\n",
       "      <th>geo_dist</th>\n",
       "    </tr>\n",
       "  </thead>\n",
       "  <tbody>\n",
       "    <tr>\n",
       "      <td>1</td>\n",
       "      <td>8963a3d030fffff</td>\n",
       "      <td>8963a3d0267ffff</td>\n",
       "      <td>52.5466</td>\n",
       "      <td>13.2887</td>\n",
       "      <td>52.5296</td>\n",
       "      <td>13.2864</td>\n",
       "      <td>1900.7257</td>\n",
       "    </tr>\n",
       "    <tr>\n",
       "      <td>2</td>\n",
       "      <td>8963a3d030fffff</td>\n",
       "      <td>8963a3d037bffff</td>\n",
       "      <td>52.5466</td>\n",
       "      <td>13.2887</td>\n",
       "      <td>52.5426</td>\n",
       "      <td>13.2843</td>\n",
       "      <td>535.3188</td>\n",
       "    </tr>\n",
       "    <tr>\n",
       "      <td>3</td>\n",
       "      <td>8963a3d030fffff</td>\n",
       "      <td>8963a3d1ddbffff</td>\n",
       "      <td>52.5466</td>\n",
       "      <td>13.2887</td>\n",
       "      <td>52.5419</td>\n",
       "      <td>13.2768</td>\n",
       "      <td>964.5673</td>\n",
       "    </tr>\n",
       "  </tbody>\n",
       "</table>\n",
       "</div>"
      ],
      "text/plain": [
       "             hex_x            hex_y  geo_center_lat_x  geo_center_lon_x  \\\n",
       "1  8963a3d030fffff  8963a3d0267ffff           52.5466           13.2887   \n",
       "2  8963a3d030fffff  8963a3d037bffff           52.5466           13.2887   \n",
       "3  8963a3d030fffff  8963a3d1ddbffff           52.5466           13.2887   \n",
       "\n",
       "   geo_center_lat_y  geo_center_lon_y  geo_dist  \n",
       "1           52.5296           13.2864 1900.7257  \n",
       "2           52.5426           13.2843  535.3188  \n",
       "3           52.5419           13.2768  964.5673  "
      ]
     },
     "execution_count": 26,
     "metadata": {},
     "output_type": "execute_result"
    }
   ],
   "source": [
    "wgs84_geod = Geod(ellps='WGS84')\n",
    "\n",
    "def distance(lat1,lon1,lat2,lon2):\n",
    "    az12,az21,dist = wgs84_geod.inv(lon1,lat1,lon2,lat2)\n",
    "    return dist\n",
    "\n",
    "df_dist['geo_dist'] = df_dist.apply(lambda x: distance(x.geo_center_lat_x, x.geo_center_lon_x, x.geo_center_lat_y, x.geo_center_lon_y), axis=1)\n",
    "df_dist.head(3)"
   ]
  },
  {
   "cell_type": "markdown",
   "metadata": {},
   "source": [
    "**Calculate avg distance per hexagon**"
   ]
  },
  {
   "cell_type": "code",
   "execution_count": 27,
   "metadata": {},
   "outputs": [],
   "source": [
    "df_dist = df_dist.groupby(['hex_x']).agg({'geo_dist': 'mean'}).reset_index()"
   ]
  },
  {
   "cell_type": "code",
   "execution_count": 28,
   "metadata": {},
   "outputs": [
    {
     "data": {
      "text/html": [
       "<div>\n",
       "<style scoped>\n",
       "    .dataframe tbody tr th:only-of-type {\n",
       "        vertical-align: middle;\n",
       "    }\n",
       "\n",
       "    .dataframe tbody tr th {\n",
       "        vertical-align: top;\n",
       "    }\n",
       "\n",
       "    .dataframe thead th {\n",
       "        text-align: right;\n",
       "    }\n",
       "</style>\n",
       "<table border=\"1\" class=\"dataframe\">\n",
       "  <thead>\n",
       "    <tr style=\"text-align: right;\">\n",
       "      <th></th>\n",
       "      <th>hex_x</th>\n",
       "      <th>geo_dist</th>\n",
       "    </tr>\n",
       "  </thead>\n",
       "  <tbody>\n",
       "    <tr>\n",
       "      <td>0</td>\n",
       "      <td>8963a2a4903ffff</td>\n",
       "      <td>4453.3257</td>\n",
       "    </tr>\n",
       "    <tr>\n",
       "      <td>1</td>\n",
       "      <td>8963a2a4907ffff</td>\n",
       "      <td>4269.4009</td>\n",
       "    </tr>\n",
       "    <tr>\n",
       "      <td>2</td>\n",
       "      <td>8963a2a490bffff</td>\n",
       "      <td>4534.3631</td>\n",
       "    </tr>\n",
       "  </tbody>\n",
       "</table>\n",
       "</div>"
      ],
      "text/plain": [
       "             hex_x  geo_dist\n",
       "0  8963a2a4903ffff 4453.3257\n",
       "1  8963a2a4907ffff 4269.4009\n",
       "2  8963a2a490bffff 4534.3631"
      ]
     },
     "execution_count": 28,
     "metadata": {},
     "output_type": "execute_result"
    }
   ],
   "source": [
    "df_dist.head(3)"
   ]
  },
  {
   "cell_type": "code",
   "execution_count": 29,
   "metadata": {},
   "outputs": [
    {
     "data": {
      "text/plain": [
       "<matplotlib.axes._subplots.AxesSubplot at 0x14ce1a81388>"
      ]
     },
     "execution_count": 29,
     "metadata": {},
     "output_type": "execute_result"
    },
    {
     "data": {
      "image/png": "[encoded data removed]",
      "text/plain": [
       "<Figure size 432x288 with 1 Axes>"
      ]
     },
     "metadata": {
      "needs_background": "light"
     },
     "output_type": "display_data"
    }
   ],
   "source": [
    "plt.figure()\n",
    "df_dist.geo_dist.plot.box()"
   ]
  },
  {
   "cell_type": "markdown",
   "metadata": {},
   "source": [
    "**Merge to hex table**"
   ]
  },
  {
   "cell_type": "code",
   "execution_count": 30,
   "metadata": {},
   "outputs": [],
   "source": [
    "df_hex = df_hex.merge(df_dist, left_on='hex', right_on='hex_x').drop(columns=['mg', 'hex_x'])\n",
    "df_hex.rename(columns={'geo_dist': 'geo_dist_avg'}, inplace=True)"
   ]
  },
  {
   "cell_type": "code",
   "execution_count": 31,
   "metadata": {},
   "outputs": [
    {
     "data": {
      "text/html": [
       "<div>\n",
       "<style scoped>\n",
       "    .dataframe tbody tr th:only-of-type {\n",
       "        vertical-align: middle;\n",
       "    }\n",
       "\n",
       "    .dataframe tbody tr th {\n",
       "        vertical-align: top;\n",
       "    }\n",
       "\n",
       "    .dataframe thead th {\n",
       "        text-align: right;\n",
       "    }\n",
       "</style>\n",
       "<table border=\"1\" class=\"dataframe\">\n",
       "  <thead>\n",
       "    <tr style=\"text-align: right;\">\n",
       "      <th></th>\n",
       "      <th>hex</th>\n",
       "      <th>neighbourhood_id</th>\n",
       "      <th>neighbourhood_name</th>\n",
       "      <th>pop_den</th>\n",
       "      <th>pop_share</th>\n",
       "      <th>geometry</th>\n",
       "      <th>geo_center_lon</th>\n",
       "      <th>geo_center_lat</th>\n",
       "      <th>geo_dist_avg</th>\n",
       "    </tr>\n",
       "  </thead>\n",
       "  <tbody>\n",
       "    <tr>\n",
       "      <td>0</td>\n",
       "      <td>8963a3d030fffff</td>\n",
       "      <td>04010101</td>\n",
       "      <td>Jungfernheide</td>\n",
       "      <td>3.5170</td>\n",
       "      <td>0.0005</td>\n",
       "      <td>MULTIPOLYGON (((13.30145 52.54881, 13.30150 52...</td>\n",
       "      <td>13.2887</td>\n",
       "      <td>52.5466</td>\n",
       "      <td>6039.0177</td>\n",
       "    </tr>\n",
       "    <tr>\n",
       "      <td>1</td>\n",
       "      <td>8963a3d0267ffff</td>\n",
       "      <td>04010101</td>\n",
       "      <td>Jungfernheide</td>\n",
       "      <td>3.5170</td>\n",
       "      <td>0.0005</td>\n",
       "      <td>MULTIPOLYGON (((13.30145 52.54881, 13.30150 52...</td>\n",
       "      <td>13.2864</td>\n",
       "      <td>52.5296</td>\n",
       "      <td>4500.2728</td>\n",
       "    </tr>\n",
       "    <tr>\n",
       "      <td>2</td>\n",
       "      <td>8963a3d037bffff</td>\n",
       "      <td>04010101</td>\n",
       "      <td>Jungfernheide</td>\n",
       "      <td>3.5170</td>\n",
       "      <td>0.0005</td>\n",
       "      <td>MULTIPOLYGON (((13.30145 52.54881, 13.30150 52...</td>\n",
       "      <td>13.2843</td>\n",
       "      <td>52.5426</td>\n",
       "      <td>5619.8398</td>\n",
       "    </tr>\n",
       "  </tbody>\n",
       "</table>\n",
       "</div>"
      ],
      "text/plain": [
       "               hex neighbourhood_id neighbourhood_name  pop_den  pop_share  \\\n",
       "0  8963a3d030fffff         04010101      Jungfernheide   3.5170     0.0005   \n",
       "1  8963a3d0267ffff         04010101      Jungfernheide   3.5170     0.0005   \n",
       "2  8963a3d037bffff         04010101      Jungfernheide   3.5170     0.0005   \n",
       "\n",
       "                                            geometry  geo_center_lon  \\\n",
       "0  MULTIPOLYGON (((13.30145 52.54881, 13.30150 52...         13.2887   \n",
       "1  MULTIPOLYGON (((13.30145 52.54881, 13.30150 52...         13.2864   \n",
       "2  MULTIPOLYGON (((13.30145 52.54881, 13.30150 52...         13.2843   \n",
       "\n",
       "   geo_center_lat  geo_dist_avg  \n",
       "0         52.5466     6039.0177  \n",
       "1         52.5296     4500.2728  \n",
       "2         52.5426     5619.8398  "
      ]
     },
     "execution_count": 31,
     "metadata": {},
     "output_type": "execute_result"
    }
   ],
   "source": [
    "df_hex.head(3)"
   ]
  },
  {
   "cell_type": "markdown",
   "metadata": {},
   "source": [
    "**Assume factor 1.3 for street distance from beeline distance**"
   ]
  },
  {
   "cell_type": "code",
   "execution_count": 32,
   "metadata": {},
   "outputs": [],
   "source": [
    "beeline_dist_factor = 1.3"
   ]
  },
  {
   "cell_type": "code",
   "execution_count": 33,
   "metadata": {},
   "outputs": [],
   "source": [
    "df_hex['street_dist_avg'] = beeline_dist_factor * df_hex['geo_dist_avg']"
   ]
  },
  {
   "cell_type": "code",
   "execution_count": 34,
   "metadata": {},
   "outputs": [
    {
     "data": {
      "text/html": [
       "<div>\n",
       "<style scoped>\n",
       "    .dataframe tbody tr th:only-of-type {\n",
       "        vertical-align: middle;\n",
       "    }\n",
       "\n",
       "    .dataframe tbody tr th {\n",
       "        vertical-align: top;\n",
       "    }\n",
       "\n",
       "    .dataframe thead th {\n",
       "        text-align: right;\n",
       "    }\n",
       "</style>\n",
       "<table border=\"1\" class=\"dataframe\">\n",
       "  <thead>\n",
       "    <tr style=\"text-align: right;\">\n",
       "      <th></th>\n",
       "      <th>hex</th>\n",
       "      <th>neighbourhood_id</th>\n",
       "      <th>neighbourhood_name</th>\n",
       "      <th>pop_den</th>\n",
       "      <th>pop_share</th>\n",
       "      <th>geometry</th>\n",
       "      <th>geo_center_lon</th>\n",
       "      <th>geo_center_lat</th>\n",
       "      <th>geo_dist_avg</th>\n",
       "      <th>street_dist_avg</th>\n",
       "    </tr>\n",
       "  </thead>\n",
       "  <tbody>\n",
       "    <tr>\n",
       "      <td>0</td>\n",
       "      <td>8963a3d030fffff</td>\n",
       "      <td>04010101</td>\n",
       "      <td>Jungfernheide</td>\n",
       "      <td>3.5170</td>\n",
       "      <td>0.0005</td>\n",
       "      <td>MULTIPOLYGON (((13.30145 52.54881, 13.30150 52...</td>\n",
       "      <td>13.2887</td>\n",
       "      <td>52.5466</td>\n",
       "      <td>6039.0177</td>\n",
       "      <td>7850.7230</td>\n",
       "    </tr>\n",
       "    <tr>\n",
       "      <td>1</td>\n",
       "      <td>8963a3d0267ffff</td>\n",
       "      <td>04010101</td>\n",
       "      <td>Jungfernheide</td>\n",
       "      <td>3.5170</td>\n",
       "      <td>0.0005</td>\n",
       "      <td>MULTIPOLYGON (((13.30145 52.54881, 13.30150 52...</td>\n",
       "      <td>13.2864</td>\n",
       "      <td>52.5296</td>\n",
       "      <td>4500.2728</td>\n",
       "      <td>5850.3546</td>\n",
       "    </tr>\n",
       "    <tr>\n",
       "      <td>2</td>\n",
       "      <td>8963a3d037bffff</td>\n",
       "      <td>04010101</td>\n",
       "      <td>Jungfernheide</td>\n",
       "      <td>3.5170</td>\n",
       "      <td>0.0005</td>\n",
       "      <td>MULTIPOLYGON (((13.30145 52.54881, 13.30150 52...</td>\n",
       "      <td>13.2843</td>\n",
       "      <td>52.5426</td>\n",
       "      <td>5619.8398</td>\n",
       "      <td>7305.7917</td>\n",
       "    </tr>\n",
       "  </tbody>\n",
       "</table>\n",
       "</div>"
      ],
      "text/plain": [
       "               hex neighbourhood_id neighbourhood_name  pop_den  pop_share  \\\n",
       "0  8963a3d030fffff         04010101      Jungfernheide   3.5170     0.0005   \n",
       "1  8963a3d0267ffff         04010101      Jungfernheide   3.5170     0.0005   \n",
       "2  8963a3d037bffff         04010101      Jungfernheide   3.5170     0.0005   \n",
       "\n",
       "                                            geometry  geo_center_lon  \\\n",
       "0  MULTIPOLYGON (((13.30145 52.54881, 13.30150 52...         13.2887   \n",
       "1  MULTIPOLYGON (((13.30145 52.54881, 13.30150 52...         13.2864   \n",
       "2  MULTIPOLYGON (((13.30145 52.54881, 13.30150 52...         13.2843   \n",
       "\n",
       "   geo_center_lat  geo_dist_avg  street_dist_avg  \n",
       "0         52.5466     6039.0177        7850.7230  \n",
       "1         52.5296     4500.2728        5850.3546  \n",
       "2         52.5426     5619.8398        7305.7917  "
      ]
     },
     "execution_count": 34,
     "metadata": {},
     "output_type": "execute_result"
    }
   ],
   "source": [
    "df_hex.head(3)"
   ]
  },
  {
   "cell_type": "markdown",
   "metadata": {},
   "source": [
    "# Part 2: Calculate Min Distance and Avg Distance"
   ]
  },
  {
   "cell_type": "markdown",
   "metadata": {},
   "source": [
    "**Function for minimal distance**"
   ]
  },
  {
   "cell_type": "code",
   "execution_count": 35,
   "metadata": {},
   "outputs": [],
   "source": [
    "def min_distance(orders):\n",
    "    \n",
    "    area = 64.72\n",
    "    return 2*(math.sqrt((area/orders)/(2*math.sqrt(3))))"
   ]
  },
  {
   "cell_type": "code",
   "execution_count": 41,
   "metadata": {},
   "outputs": [
    {
     "data": {
      "text/plain": [
       "0.1333918492226007"
      ]
     },
     "execution_count": 41,
     "metadata": {},
     "output_type": "execute_result"
    }
   ],
   "source": [
    "min_distance(4200)"
   ]
  },
  {
   "cell_type": "markdown",
   "metadata": {},
   "source": [
    "**Function for avg distance**"
   ]
  },
  {
   "cell_type": "code",
   "execution_count": null,
   "metadata": {},
   "outputs": [],
   "source": [
    "def avg_distance(orders):\n",
    "    \n",
    "    con_gesamt = math.pow(orders,2)-orders\n",
    "    df_hex['orders'] = orders * df_hex['pop_share']   \n",
    "    df_hex['hex_con_inside'] = df_hex.apply(lambda x: math.pow(x.orders, 2)-x.orders, axis=1)\n",
    "    df_hex['hex_con_out'] = con_gesamt - df_hex['hex_con_inside']\n",
    "    df_hex['street_dist_avg_rescaled'] = (df_hex['hex_con_out'] * df_hex['street_dist_avg'])/con_gesamt\n",
    "    \n",
    "    avg_distance = df_hex['street_dist_avg_rescaled'].mean()\n",
    "    \n",
    "    df_hex.drop(columns=['orders', 'hex_con_inside', 'hex_con_out', 'street_dist_avg_rescaled'])\n",
    "    \n",
    "    return avg_distance"
   ]
  },
  {
   "cell_type": "code",
   "execution_count": 36,
   "metadata": {},
   "outputs": [],
   "source": [
    "orders = 1000"
   ]
  },
  {
   "cell_type": "code",
   "execution_count": 37,
   "metadata": {},
   "outputs": [],
   "source": [
    "con_gesamt = math.pow(orders,2)-orders"
   ]
  },
  {
   "cell_type": "code",
   "execution_count": 38,
   "metadata": {},
   "outputs": [
    {
     "data": {
      "text/html": [
       "<div>\n",
       "<style scoped>\n",
       "    .dataframe tbody tr th:only-of-type {\n",
       "        vertical-align: middle;\n",
       "    }\n",
       "\n",
       "    .dataframe tbody tr th {\n",
       "        vertical-align: top;\n",
       "    }\n",
       "\n",
       "    .dataframe thead th {\n",
       "        text-align: right;\n",
       "    }\n",
       "</style>\n",
       "<table border=\"1\" class=\"dataframe\">\n",
       "  <thead>\n",
       "    <tr style=\"text-align: right;\">\n",
       "      <th></th>\n",
       "      <th>hex</th>\n",
       "      <th>neighbourhood_id</th>\n",
       "      <th>neighbourhood_name</th>\n",
       "      <th>pop_den</th>\n",
       "      <th>pop_share</th>\n",
       "      <th>geometry</th>\n",
       "      <th>geo_center_lon</th>\n",
       "      <th>geo_center_lat</th>\n",
       "      <th>geo_dist_avg</th>\n",
       "      <th>street_dist_avg</th>\n",
       "      <th>orders</th>\n",
       "    </tr>\n",
       "  </thead>\n",
       "  <tbody>\n",
       "    <tr>\n",
       "      <td>0</td>\n",
       "      <td>8963a3d03cfffff</td>\n",
       "      <td>04010101</td>\n",
       "      <td>Jungfernheide</td>\n",
       "      <td>3.5170</td>\n",
       "      <td>0.0005</td>\n",
       "      <td>MULTIPOLYGON (((13.30145 52.54881, 13.30150 52...</td>\n",
       "      <td>13.2922</td>\n",
       "      <td>52.5408</td>\n",
       "      <td>5520.5740</td>\n",
       "      <td>7176.7462</td>\n",
       "      <td>0.5389</td>\n",
       "    </tr>\n",
       "    <tr>\n",
       "      <td>1</td>\n",
       "      <td>8963a3d0343ffff</td>\n",
       "      <td>04010101</td>\n",
       "      <td>Jungfernheide</td>\n",
       "      <td>3.5170</td>\n",
       "      <td>0.0005</td>\n",
       "      <td>MULTIPOLYGON (((13.30145 52.54881, 13.30150 52...</td>\n",
       "      <td>13.2873</td>\n",
       "      <td>52.5394</td>\n",
       "      <td>5341.1303</td>\n",
       "      <td>6943.4694</td>\n",
       "      <td>0.5389</td>\n",
       "    </tr>\n",
       "    <tr>\n",
       "      <td>2</td>\n",
       "      <td>8963a3d038fffff</td>\n",
       "      <td>04010101</td>\n",
       "      <td>Jungfernheide</td>\n",
       "      <td>3.5170</td>\n",
       "      <td>0.0005</td>\n",
       "      <td>MULTIPOLYGON (((13.30145 52.54881, 13.30150 52...</td>\n",
       "      <td>13.2961</td>\n",
       "      <td>52.5474</td>\n",
       "      <td>6208.0751</td>\n",
       "      <td>8070.4976</td>\n",
       "      <td>0.5389</td>\n",
       "    </tr>\n",
       "  </tbody>\n",
       "</table>\n",
       "</div>"
      ],
      "text/plain": [
       "               hex neighbourhood_id neighbourhood_name  pop_den  pop_share  \\\n",
       "0  8963a3d03cfffff         04010101      Jungfernheide   3.5170     0.0005   \n",
       "1  8963a3d0343ffff         04010101      Jungfernheide   3.5170     0.0005   \n",
       "2  8963a3d038fffff         04010101      Jungfernheide   3.5170     0.0005   \n",
       "\n",
       "                                            geometry  geo_center_lon  \\\n",
       "0  MULTIPOLYGON (((13.30145 52.54881, 13.30150 52...         13.2922   \n",
       "1  MULTIPOLYGON (((13.30145 52.54881, 13.30150 52...         13.2873   \n",
       "2  MULTIPOLYGON (((13.30145 52.54881, 13.30150 52...         13.2961   \n",
       "\n",
       "   geo_center_lat  geo_dist_avg  street_dist_avg  orders  \n",
       "0         52.5408     5520.5740        7176.7462  0.5389  \n",
       "1         52.5394     5341.1303        6943.4694  0.5389  \n",
       "2         52.5474     6208.0751        8070.4976  0.5389  "
      ]
     },
     "execution_count": 38,
     "metadata": {},
     "output_type": "execute_result"
    }
   ],
   "source": [
    "df_hex['orders'] = orders * df_hex['pop_share']\n",
    "df_hex.head(3)"
   ]
  },
  {
   "cell_type": "code",
   "execution_count": 39,
   "metadata": {},
   "outputs": [
    {
     "data": {
      "text/html": [
       "<div>\n",
       "<style scoped>\n",
       "    .dataframe tbody tr th:only-of-type {\n",
       "        vertical-align: middle;\n",
       "    }\n",
       "\n",
       "    .dataframe tbody tr th {\n",
       "        vertical-align: top;\n",
       "    }\n",
       "\n",
       "    .dataframe thead th {\n",
       "        text-align: right;\n",
       "    }\n",
       "</style>\n",
       "<table border=\"1\" class=\"dataframe\">\n",
       "  <thead>\n",
       "    <tr style=\"text-align: right;\">\n",
       "      <th></th>\n",
       "      <th>hex</th>\n",
       "      <th>neighbourhood_id</th>\n",
       "      <th>neighbourhood_name</th>\n",
       "      <th>pop_den</th>\n",
       "      <th>pop_share</th>\n",
       "      <th>geometry</th>\n",
       "      <th>geo_center_lon</th>\n",
       "      <th>geo_center_lat</th>\n",
       "      <th>geo_dist_avg</th>\n",
       "      <th>street_dist_avg</th>\n",
       "      <th>orders</th>\n",
       "      <th>hex_con_inside</th>\n",
       "    </tr>\n",
       "  </thead>\n",
       "  <tbody>\n",
       "    <tr>\n",
       "      <td>0</td>\n",
       "      <td>8963a3d03cfffff</td>\n",
       "      <td>04010101</td>\n",
       "      <td>Jungfernheide</td>\n",
       "      <td>3.5170</td>\n",
       "      <td>0.0005</td>\n",
       "      <td>MULTIPOLYGON (((13.30145 52.54881, 13.30150 52...</td>\n",
       "      <td>13.2922</td>\n",
       "      <td>52.5408</td>\n",
       "      <td>5520.5740</td>\n",
       "      <td>7176.7462</td>\n",
       "      <td>0.5389</td>\n",
       "      <td>-0.2485</td>\n",
       "    </tr>\n",
       "    <tr>\n",
       "      <td>1</td>\n",
       "      <td>8963a3d0343ffff</td>\n",
       "      <td>04010101</td>\n",
       "      <td>Jungfernheide</td>\n",
       "      <td>3.5170</td>\n",
       "      <td>0.0005</td>\n",
       "      <td>MULTIPOLYGON (((13.30145 52.54881, 13.30150 52...</td>\n",
       "      <td>13.2873</td>\n",
       "      <td>52.5394</td>\n",
       "      <td>5341.1303</td>\n",
       "      <td>6943.4694</td>\n",
       "      <td>0.5389</td>\n",
       "      <td>-0.2485</td>\n",
       "    </tr>\n",
       "    <tr>\n",
       "      <td>2</td>\n",
       "      <td>8963a3d038fffff</td>\n",
       "      <td>04010101</td>\n",
       "      <td>Jungfernheide</td>\n",
       "      <td>3.5170</td>\n",
       "      <td>0.0005</td>\n",
       "      <td>MULTIPOLYGON (((13.30145 52.54881, 13.30150 52...</td>\n",
       "      <td>13.2961</td>\n",
       "      <td>52.5474</td>\n",
       "      <td>6208.0751</td>\n",
       "      <td>8070.4976</td>\n",
       "      <td>0.5389</td>\n",
       "      <td>-0.2485</td>\n",
       "    </tr>\n",
       "  </tbody>\n",
       "</table>\n",
       "</div>"
      ],
      "text/plain": [
       "               hex neighbourhood_id neighbourhood_name  pop_den  pop_share  \\\n",
       "0  8963a3d03cfffff         04010101      Jungfernheide   3.5170     0.0005   \n",
       "1  8963a3d0343ffff         04010101      Jungfernheide   3.5170     0.0005   \n",
       "2  8963a3d038fffff         04010101      Jungfernheide   3.5170     0.0005   \n",
       "\n",
       "                                            geometry  geo_center_lon  \\\n",
       "0  MULTIPOLYGON (((13.30145 52.54881, 13.30150 52...         13.2922   \n",
       "1  MULTIPOLYGON (((13.30145 52.54881, 13.30150 52...         13.2873   \n",
       "2  MULTIPOLYGON (((13.30145 52.54881, 13.30150 52...         13.2961   \n",
       "\n",
       "   geo_center_lat  geo_dist_avg  street_dist_avg  orders  hex_con_inside  \n",
       "0         52.5408     5520.5740        7176.7462  0.5389         -0.2485  \n",
       "1         52.5394     5341.1303        6943.4694  0.5389         -0.2485  \n",
       "2         52.5474     6208.0751        8070.4976  0.5389         -0.2485  "
      ]
     },
     "execution_count": 39,
     "metadata": {},
     "output_type": "execute_result"
    }
   ],
   "source": [
    "df_hex['hex_con_inside'] = df_hex.apply(lambda x: math.pow(x.orders, 2)-x.orders, axis=1)\n",
    "df_hex.head(3)"
   ]
  },
  {
   "cell_type": "code",
   "execution_count": 40,
   "metadata": {},
   "outputs": [
    {
     "data": {
      "text/html": [
       "<div>\n",
       "<style scoped>\n",
       "    .dataframe tbody tr th:only-of-type {\n",
       "        vertical-align: middle;\n",
       "    }\n",
       "\n",
       "    .dataframe tbody tr th {\n",
       "        vertical-align: top;\n",
       "    }\n",
       "\n",
       "    .dataframe thead th {\n",
       "        text-align: right;\n",
       "    }\n",
       "</style>\n",
       "<table border=\"1\" class=\"dataframe\">\n",
       "  <thead>\n",
       "    <tr style=\"text-align: right;\">\n",
       "      <th></th>\n",
       "      <th>hex</th>\n",
       "      <th>neighbourhood_id</th>\n",
       "      <th>neighbourhood_name</th>\n",
       "      <th>pop_den</th>\n",
       "      <th>pop_share</th>\n",
       "      <th>geometry</th>\n",
       "      <th>geo_center_lon</th>\n",
       "      <th>geo_center_lat</th>\n",
       "      <th>geo_dist_avg</th>\n",
       "      <th>street_dist_avg</th>\n",
       "      <th>orders</th>\n",
       "      <th>hex_con_inside</th>\n",
       "      <th>hex_con_out</th>\n",
       "    </tr>\n",
       "  </thead>\n",
       "  <tbody>\n",
       "    <tr>\n",
       "      <td>0</td>\n",
       "      <td>8963a3d03cfffff</td>\n",
       "      <td>04010101</td>\n",
       "      <td>Jungfernheide</td>\n",
       "      <td>3.5170</td>\n",
       "      <td>0.0005</td>\n",
       "      <td>MULTIPOLYGON (((13.30145 52.54881, 13.30150 52...</td>\n",
       "      <td>13.2922</td>\n",
       "      <td>52.5408</td>\n",
       "      <td>5520.5740</td>\n",
       "      <td>7176.7462</td>\n",
       "      <td>0.5389</td>\n",
       "      <td>-0.2485</td>\n",
       "      <td>999000.2485</td>\n",
       "    </tr>\n",
       "    <tr>\n",
       "      <td>1</td>\n",
       "      <td>8963a3d0343ffff</td>\n",
       "      <td>04010101</td>\n",
       "      <td>Jungfernheide</td>\n",
       "      <td>3.5170</td>\n",
       "      <td>0.0005</td>\n",
       "      <td>MULTIPOLYGON (((13.30145 52.54881, 13.30150 52...</td>\n",
       "      <td>13.2873</td>\n",
       "      <td>52.5394</td>\n",
       "      <td>5341.1303</td>\n",
       "      <td>6943.4694</td>\n",
       "      <td>0.5389</td>\n",
       "      <td>-0.2485</td>\n",
       "      <td>999000.2485</td>\n",
       "    </tr>\n",
       "    <tr>\n",
       "      <td>2</td>\n",
       "      <td>8963a3d038fffff</td>\n",
       "      <td>04010101</td>\n",
       "      <td>Jungfernheide</td>\n",
       "      <td>3.5170</td>\n",
       "      <td>0.0005</td>\n",
       "      <td>MULTIPOLYGON (((13.30145 52.54881, 13.30150 52...</td>\n",
       "      <td>13.2961</td>\n",
       "      <td>52.5474</td>\n",
       "      <td>6208.0751</td>\n",
       "      <td>8070.4976</td>\n",
       "      <td>0.5389</td>\n",
       "      <td>-0.2485</td>\n",
       "      <td>999000.2485</td>\n",
       "    </tr>\n",
       "  </tbody>\n",
       "</table>\n",
       "</div>"
      ],
      "text/plain": [
       "               hex neighbourhood_id neighbourhood_name  pop_den  pop_share  \\\n",
       "0  8963a3d03cfffff         04010101      Jungfernheide   3.5170     0.0005   \n",
       "1  8963a3d0343ffff         04010101      Jungfernheide   3.5170     0.0005   \n",
       "2  8963a3d038fffff         04010101      Jungfernheide   3.5170     0.0005   \n",
       "\n",
       "                                            geometry  geo_center_lon  \\\n",
       "0  MULTIPOLYGON (((13.30145 52.54881, 13.30150 52...         13.2922   \n",
       "1  MULTIPOLYGON (((13.30145 52.54881, 13.30150 52...         13.2873   \n",
       "2  MULTIPOLYGON (((13.30145 52.54881, 13.30150 52...         13.2961   \n",
       "\n",
       "   geo_center_lat  geo_dist_avg  street_dist_avg  orders  hex_con_inside  \\\n",
       "0         52.5408     5520.5740        7176.7462  0.5389         -0.2485   \n",
       "1         52.5394     5341.1303        6943.4694  0.5389         -0.2485   \n",
       "2         52.5474     6208.0751        8070.4976  0.5389         -0.2485   \n",
       "\n",
       "   hex_con_out  \n",
       "0  999000.2485  \n",
       "1  999000.2485  \n",
       "2  999000.2485  "
      ]
     },
     "execution_count": 40,
     "metadata": {},
     "output_type": "execute_result"
    }
   ],
   "source": [
    "df_hex['hex_con_out'] = con_gesamt - df_hex['hex_con_inside']\n",
    "df_hex.head(3)"
   ]
  },
  {
   "cell_type": "code",
   "execution_count": 41,
   "metadata": {},
   "outputs": [
    {
     "data": {
      "text/html": [
       "<div>\n",
       "<style scoped>\n",
       "    .dataframe tbody tr th:only-of-type {\n",
       "        vertical-align: middle;\n",
       "    }\n",
       "\n",
       "    .dataframe tbody tr th {\n",
       "        vertical-align: top;\n",
       "    }\n",
       "\n",
       "    .dataframe thead th {\n",
       "        text-align: right;\n",
       "    }\n",
       "</style>\n",
       "<table border=\"1\" class=\"dataframe\">\n",
       "  <thead>\n",
       "    <tr style=\"text-align: right;\">\n",
       "      <th></th>\n",
       "      <th>hex</th>\n",
       "      <th>neighbourhood_id</th>\n",
       "      <th>neighbourhood_name</th>\n",
       "      <th>pop_den</th>\n",
       "      <th>pop_share</th>\n",
       "      <th>geometry</th>\n",
       "      <th>geo_center_lon</th>\n",
       "      <th>geo_center_lat</th>\n",
       "      <th>geo_dist_avg</th>\n",
       "      <th>street_dist_avg</th>\n",
       "      <th>orders</th>\n",
       "      <th>hex_con_inside</th>\n",
       "      <th>hex_con_out</th>\n",
       "      <th>street_dist_avg_rescaled</th>\n",
       "    </tr>\n",
       "  </thead>\n",
       "  <tbody>\n",
       "    <tr>\n",
       "      <td>0</td>\n",
       "      <td>8963a3d03cfffff</td>\n",
       "      <td>04010101</td>\n",
       "      <td>Jungfernheide</td>\n",
       "      <td>3.5170</td>\n",
       "      <td>0.0005</td>\n",
       "      <td>MULTIPOLYGON (((13.30145 52.54881, 13.30150 52...</td>\n",
       "      <td>13.2922</td>\n",
       "      <td>52.5408</td>\n",
       "      <td>5520.5740</td>\n",
       "      <td>7176.7462</td>\n",
       "      <td>0.5389</td>\n",
       "      <td>-0.2485</td>\n",
       "      <td>999000.2485</td>\n",
       "      <td>7176.7480</td>\n",
       "    </tr>\n",
       "    <tr>\n",
       "      <td>1</td>\n",
       "      <td>8963a3d0343ffff</td>\n",
       "      <td>04010101</td>\n",
       "      <td>Jungfernheide</td>\n",
       "      <td>3.5170</td>\n",
       "      <td>0.0005</td>\n",
       "      <td>MULTIPOLYGON (((13.30145 52.54881, 13.30150 52...</td>\n",
       "      <td>13.2873</td>\n",
       "      <td>52.5394</td>\n",
       "      <td>5341.1303</td>\n",
       "      <td>6943.4694</td>\n",
       "      <td>0.5389</td>\n",
       "      <td>-0.2485</td>\n",
       "      <td>999000.2485</td>\n",
       "      <td>6943.4711</td>\n",
       "    </tr>\n",
       "    <tr>\n",
       "      <td>2</td>\n",
       "      <td>8963a3d038fffff</td>\n",
       "      <td>04010101</td>\n",
       "      <td>Jungfernheide</td>\n",
       "      <td>3.5170</td>\n",
       "      <td>0.0005</td>\n",
       "      <td>MULTIPOLYGON (((13.30145 52.54881, 13.30150 52...</td>\n",
       "      <td>13.2961</td>\n",
       "      <td>52.5474</td>\n",
       "      <td>6208.0751</td>\n",
       "      <td>8070.4976</td>\n",
       "      <td>0.5389</td>\n",
       "      <td>-0.2485</td>\n",
       "      <td>999000.2485</td>\n",
       "      <td>8070.4996</td>\n",
       "    </tr>\n",
       "  </tbody>\n",
       "</table>\n",
       "</div>"
      ],
      "text/plain": [
       "               hex neighbourhood_id neighbourhood_name  pop_den  pop_share  \\\n",
       "0  8963a3d03cfffff         04010101      Jungfernheide   3.5170     0.0005   \n",
       "1  8963a3d0343ffff         04010101      Jungfernheide   3.5170     0.0005   \n",
       "2  8963a3d038fffff         04010101      Jungfernheide   3.5170     0.0005   \n",
       "\n",
       "                                            geometry  geo_center_lon  \\\n",
       "0  MULTIPOLYGON (((13.30145 52.54881, 13.30150 52...         13.2922   \n",
       "1  MULTIPOLYGON (((13.30145 52.54881, 13.30150 52...         13.2873   \n",
       "2  MULTIPOLYGON (((13.30145 52.54881, 13.30150 52...         13.2961   \n",
       "\n",
       "   geo_center_lat  geo_dist_avg  street_dist_avg  orders  hex_con_inside  \\\n",
       "0         52.5408     5520.5740        7176.7462  0.5389         -0.2485   \n",
       "1         52.5394     5341.1303        6943.4694  0.5389         -0.2485   \n",
       "2         52.5474     6208.0751        8070.4976  0.5389         -0.2485   \n",
       "\n",
       "   hex_con_out  street_dist_avg_rescaled  \n",
       "0  999000.2485                 7176.7480  \n",
       "1  999000.2485                 6943.4711  \n",
       "2  999000.2485                 8070.4996  "
      ]
     },
     "execution_count": 41,
     "metadata": {},
     "output_type": "execute_result"
    }
   ],
   "source": [
    "df_hex['street_dist_avg_rescaled'] = (df_hex['hex_con_out'] * df_hex['street_dist_avg'])/con_gesamt\n",
    "df_hex.head(3)"
   ]
  },
  {
   "cell_type": "code",
   "execution_count": 42,
   "metadata": {},
   "outputs": [
    {
     "data": {
      "text/plain": [
       "5509.213119770549"
      ]
     },
     "execution_count": 42,
     "metadata": {},
     "output_type": "execute_result"
    }
   ],
   "source": [
    "avg_distance = df_hex['street_dist_avg_rescaled'].mean()\n",
    "avg_distance"
   ]
  },
  {
   "cell_type": "code",
   "execution_count": 43,
   "metadata": {},
   "outputs": [
    {
     "data": {
      "text/html": [
       "<div>\n",
       "<style scoped>\n",
       "    .dataframe tbody tr th:only-of-type {\n",
       "        vertical-align: middle;\n",
       "    }\n",
       "\n",
       "    .dataframe tbody tr th {\n",
       "        vertical-align: top;\n",
       "    }\n",
       "\n",
       "    .dataframe thead th {\n",
       "        text-align: right;\n",
       "    }\n",
       "</style>\n",
       "<table border=\"1\" class=\"dataframe\">\n",
       "  <thead>\n",
       "    <tr style=\"text-align: right;\">\n",
       "      <th></th>\n",
       "      <th>hex</th>\n",
       "      <th>neighbourhood_id</th>\n",
       "      <th>neighbourhood_name</th>\n",
       "      <th>pop_den</th>\n",
       "      <th>pop_share</th>\n",
       "      <th>geometry</th>\n",
       "      <th>geo_center_lon</th>\n",
       "      <th>geo_center_lat</th>\n",
       "      <th>geo_dist_avg</th>\n",
       "      <th>street_dist_avg</th>\n",
       "    </tr>\n",
       "  </thead>\n",
       "  <tbody>\n",
       "    <tr>\n",
       "      <td>0</td>\n",
       "      <td>8963a3d03cfffff</td>\n",
       "      <td>04010101</td>\n",
       "      <td>Jungfernheide</td>\n",
       "      <td>3.5170</td>\n",
       "      <td>0.0005</td>\n",
       "      <td>MULTIPOLYGON (((13.30145 52.54881, 13.30150 52...</td>\n",
       "      <td>13.2922</td>\n",
       "      <td>52.5408</td>\n",
       "      <td>5520.5740</td>\n",
       "      <td>7176.7462</td>\n",
       "    </tr>\n",
       "    <tr>\n",
       "      <td>1</td>\n",
       "      <td>8963a3d0343ffff</td>\n",
       "      <td>04010101</td>\n",
       "      <td>Jungfernheide</td>\n",
       "      <td>3.5170</td>\n",
       "      <td>0.0005</td>\n",
       "      <td>MULTIPOLYGON (((13.30145 52.54881, 13.30150 52...</td>\n",
       "      <td>13.2873</td>\n",
       "      <td>52.5394</td>\n",
       "      <td>5341.1303</td>\n",
       "      <td>6943.4694</td>\n",
       "    </tr>\n",
       "    <tr>\n",
       "      <td>2</td>\n",
       "      <td>8963a3d038fffff</td>\n",
       "      <td>04010101</td>\n",
       "      <td>Jungfernheide</td>\n",
       "      <td>3.5170</td>\n",
       "      <td>0.0005</td>\n",
       "      <td>MULTIPOLYGON (((13.30145 52.54881, 13.30150 52...</td>\n",
       "      <td>13.2961</td>\n",
       "      <td>52.5474</td>\n",
       "      <td>6208.0751</td>\n",
       "      <td>8070.4976</td>\n",
       "    </tr>\n",
       "    <tr>\n",
       "      <td>3</td>\n",
       "      <td>8963a3d1d9bffff</td>\n",
       "      <td>04010101</td>\n",
       "      <td>Jungfernheide</td>\n",
       "      <td>3.5170</td>\n",
       "      <td>0.0005</td>\n",
       "      <td>MULTIPOLYGON (((13.30145 52.54881, 13.30150 52...</td>\n",
       "      <td>13.2807</td>\n",
       "      <td>52.5485</td>\n",
       "      <td>6177.3076</td>\n",
       "      <td>8030.4999</td>\n",
       "    </tr>\n",
       "    <tr>\n",
       "      <td>4</td>\n",
       "      <td>8963a3d022fffff</td>\n",
       "      <td>04010101</td>\n",
       "      <td>Jungfernheide</td>\n",
       "      <td>3.5170</td>\n",
       "      <td>0.0005</td>\n",
       "      <td>MULTIPOLYGON (((13.30145 52.54881, 13.30150 52...</td>\n",
       "      <td>13.2882</td>\n",
       "      <td>52.5342</td>\n",
       "      <td>4889.9297</td>\n",
       "      <td>6356.9086</td>\n",
       "    </tr>\n",
       "    <tr>\n",
       "      <td>...</td>\n",
       "      <td>...</td>\n",
       "      <td>...</td>\n",
       "      <td>...</td>\n",
       "      <td>...</td>\n",
       "      <td>...</td>\n",
       "      <td>...</td>\n",
       "      <td>...</td>\n",
       "      <td>...</td>\n",
       "      <td>...</td>\n",
       "      <td>...</td>\n",
       "    </tr>\n",
       "    <tr>\n",
       "      <td>1106</td>\n",
       "      <td>8963a3d8c4fffff</td>\n",
       "      <td>04061757</td>\n",
       "      <td>Forst Grunewald</td>\n",
       "      <td>0.0039</td>\n",
       "      <td>0.0000</td>\n",
       "      <td>MULTIPOLYGON (((13.20292 52.50081, 13.20513 52...</td>\n",
       "      <td>13.1893</td>\n",
       "      <td>52.4744</td>\n",
       "      <td>6470.6419</td>\n",
       "      <td>8411.8345</td>\n",
       "    </tr>\n",
       "    <tr>\n",
       "      <td>1107</td>\n",
       "      <td>8963a3daab7ffff</td>\n",
       "      <td>04061757</td>\n",
       "      <td>Forst Grunewald</td>\n",
       "      <td>0.0039</td>\n",
       "      <td>0.0000</td>\n",
       "      <td>MULTIPOLYGON (((13.20292 52.50081, 13.20513 52...</td>\n",
       "      <td>13.2205</td>\n",
       "      <td>52.4847</td>\n",
       "      <td>4494.3450</td>\n",
       "      <td>5842.6485</td>\n",
       "    </tr>\n",
       "    <tr>\n",
       "      <td>1108</td>\n",
       "      <td>8963a3dac0bffff</td>\n",
       "      <td>04061757</td>\n",
       "      <td>Forst Grunewald</td>\n",
       "      <td>0.0039</td>\n",
       "      <td>0.0000</td>\n",
       "      <td>MULTIPOLYGON (((13.20292 52.50081, 13.20513 52...</td>\n",
       "      <td>13.2460</td>\n",
       "      <td>52.4838</td>\n",
       "      <td>3679.3392</td>\n",
       "      <td>4783.1409</td>\n",
       "    </tr>\n",
       "    <tr>\n",
       "      <td>1109</td>\n",
       "      <td>8963a3da80fffff</td>\n",
       "      <td>04061757</td>\n",
       "      <td>Forst Grunewald</td>\n",
       "      <td>0.0039</td>\n",
       "      <td>0.0000</td>\n",
       "      <td>MULTIPOLYGON (((13.20292 52.50081, 13.20513 52...</td>\n",
       "      <td>13.2271</td>\n",
       "      <td>52.4907</td>\n",
       "      <td>4112.4029</td>\n",
       "      <td>5346.1238</td>\n",
       "    </tr>\n",
       "    <tr>\n",
       "      <td>1110</td>\n",
       "      <td>8963a3d8d53ffff</td>\n",
       "      <td>04061757</td>\n",
       "      <td>Forst Grunewald</td>\n",
       "      <td>0.0039</td>\n",
       "      <td>0.0000</td>\n",
       "      <td>MULTIPOLYGON (((13.20292 52.50081, 13.20513 52...</td>\n",
       "      <td>13.1915</td>\n",
       "      <td>52.4914</td>\n",
       "      <td>5905.3597</td>\n",
       "      <td>7676.9676</td>\n",
       "    </tr>\n",
       "  </tbody>\n",
       "</table>\n",
       "<p>1111 rows × 10 columns</p>\n",
       "</div>"
      ],
      "text/plain": [
       "                  hex neighbourhood_id neighbourhood_name  pop_den  pop_share  \\\n",
       "0     8963a3d03cfffff         04010101      Jungfernheide   3.5170     0.0005   \n",
       "1     8963a3d0343ffff         04010101      Jungfernheide   3.5170     0.0005   \n",
       "2     8963a3d038fffff         04010101      Jungfernheide   3.5170     0.0005   \n",
       "3     8963a3d1d9bffff         04010101      Jungfernheide   3.5170     0.0005   \n",
       "4     8963a3d022fffff         04010101      Jungfernheide   3.5170     0.0005   \n",
       "...               ...              ...                ...      ...        ...   \n",
       "1106  8963a3d8c4fffff         04061757    Forst Grunewald   0.0039     0.0000   \n",
       "1107  8963a3daab7ffff         04061757    Forst Grunewald   0.0039     0.0000   \n",
       "1108  8963a3dac0bffff         04061757    Forst Grunewald   0.0039     0.0000   \n",
       "1109  8963a3da80fffff         04061757    Forst Grunewald   0.0039     0.0000   \n",
       "1110  8963a3d8d53ffff         04061757    Forst Grunewald   0.0039     0.0000   \n",
       "\n",
       "                                               geometry  geo_center_lon  \\\n",
       "0     MULTIPOLYGON (((13.30145 52.54881, 13.30150 52...         13.2922   \n",
       "1     MULTIPOLYGON (((13.30145 52.54881, 13.30150 52...         13.2873   \n",
       "2     MULTIPOLYGON (((13.30145 52.54881, 13.30150 52...         13.2961   \n",
       "3     MULTIPOLYGON (((13.30145 52.54881, 13.30150 52...         13.2807   \n",
       "4     MULTIPOLYGON (((13.30145 52.54881, 13.30150 52...         13.2882   \n",
       "...                                                 ...             ...   \n",
       "1106  MULTIPOLYGON (((13.20292 52.50081, 13.20513 52...         13.1893   \n",
       "1107  MULTIPOLYGON (((13.20292 52.50081, 13.20513 52...         13.2205   \n",
       "1108  MULTIPOLYGON (((13.20292 52.50081, 13.20513 52...         13.2460   \n",
       "1109  MULTIPOLYGON (((13.20292 52.50081, 13.20513 52...         13.2271   \n",
       "1110  MULTIPOLYGON (((13.20292 52.50081, 13.20513 52...         13.1915   \n",
       "\n",
       "      geo_center_lat  geo_dist_avg  street_dist_avg  \n",
       "0            52.5408     5520.5740        7176.7462  \n",
       "1            52.5394     5341.1303        6943.4694  \n",
       "2            52.5474     6208.0751        8070.4976  \n",
       "3            52.5485     6177.3076        8030.4999  \n",
       "4            52.5342     4889.9297        6356.9086  \n",
       "...              ...           ...              ...  \n",
       "1106         52.4744     6470.6419        8411.8345  \n",
       "1107         52.4847     4494.3450        5842.6485  \n",
       "1108         52.4838     3679.3392        4783.1409  \n",
       "1109         52.4907     4112.4029        5346.1238  \n",
       "1110         52.4914     5905.3597        7676.9676  \n",
       "\n",
       "[1111 rows x 10 columns]"
      ]
     },
     "execution_count": 43,
     "metadata": {},
     "output_type": "execute_result"
    }
   ],
   "source": [
    "df_hex.drop(columns=['orders', 'hex_con_inside', 'hex_con_out', 'street_dist_avg_rescaled'])"
   ]
  },
  {
   "cell_type": "code",
   "execution_count": null,
   "metadata": {},
   "outputs": [],
   "source": []
  }
 ],
 "metadata": {
  "kernelspec": {
   "display_name": "Python 3",
   "language": "python",
   "name": "python3"
  },
  "language_info": {
   "codemirror_mode": {
    "name": "ipython",
    "version": 3
   },
   "file_extension": ".py",
   "mimetype": "text/x-python",
   "name": "python",
   "nbconvert_exporter": "python",
   "pygments_lexer": "ipython3",
   "version": "3.7.4"
  }
 },
 "nbformat": 4,
 "nbformat_minor": 4
}
